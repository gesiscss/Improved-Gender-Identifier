{
 "cells": [
  {
   "cell_type": "code",
   "execution_count": null,
   "metadata": {},
   "outputs": [],
   "source": [
    "# #############################################################################\n",
    "# Importing necessary libraries for creating model\n",
    "\n",
    "from keras.models import model_from_json\n",
    "from keras.models import load_model\n",
    "import os\n",
    "import pandas as pd\n",
    "import numpy as np\n",
    "import keras\n",
    "import dlib #Importing library\n",
    "import cv2 # importing open CV library\n",
    "import face_recognition # importing face recognition library\n",
    "import imutils # Package of convenience functions\n",
    "import csv\n",
    "import requests"
   ]
  },
  {
   "cell_type": "code",
   "execution_count": null,
   "metadata": {},
   "outputs": [],
   "source": [
    "# #############################################################################\n",
    "# Sending Requests and loading data from websites\n",
    "\n",
    "with open('\\main_name_url.csv') as csvfile:\n",
    "    csvrows = csv.reader(csvfile, delimiter=',', quotechar='\"')     # Reading websites from csv file\n",
    "    for row in csvrows:\n",
    "        filename = row[0]+str(4)+ \".jpg\"    # Putting the file name and the image formate\n",
    "        url = row[5]\n",
    "        print(url)\n",
    "        result = requests.get(url, stream=True)   #Sending request to the websites\n",
    "        if result.status_code == 200:\n",
    "            image = result.raw.read()\n",
    "            open(filename,\"wb\").write(image)    # Writing the images in the folder"
   ]
  }
 ],
 "metadata": {
  "kernelspec": {
   "display_name": "Python 3",
   "language": "python",
   "name": "python3"
  },
  "language_info": {
   "codemirror_mode": {
    "name": "ipython",
    "version": 3
   },
   "file_extension": ".py",
   "mimetype": "text/x-python",
   "name": "python",
   "nbconvert_exporter": "python",
   "pygments_lexer": "ipython3"
  }
 },
 "nbformat": 4,
 "nbformat_minor": 2
}
