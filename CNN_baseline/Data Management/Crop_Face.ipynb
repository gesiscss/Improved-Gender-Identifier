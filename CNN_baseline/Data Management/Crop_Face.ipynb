{
 "cells": [
  {
   "cell_type": "code",
   "execution_count": null,
   "metadata": {},
   "outputs": [],
   "source": [
    "# #############################################################################\n",
    "# Writing the function of detecting faces, resize and reshape\n",
    "\n",
    "def detect_faces(image):                    # Create a face detector\n",
    "\n",
    "    face_detector = dlib.get_frontal_face_detector()\n",
    "    \n",
    "    detected_faces = face_detector(image, 1)    # Run detector and get bounding boxes of the faces on image\n",
    "    face_frames = [(x.left(), x.top(),\n",
    "                    x.right(), x.bottom()) for x in detected_faces]\n",
    "\n",
    "    return face_frames\n",
    "\n",
    "\n",
    "def resize_im(image, hight, width):          # Resizing the image\n",
    "    resized_im = image.resize((hight, width))\n",
    "    return resized_im\n",
    "\n",
    "def reshape(numpy_array):            # Reshape the image\n",
    "    d = np.stack(numpy_array)\n",
    "    reshaped = d.reshape(1, d.size)\n",
    "    return reshaped"
   ]
  }
 ],
 "metadata": {
  "kernelspec": {
   "display_name": "Python 3",
   "language": "python",
   "name": "python3"
  },
  "language_info": {
   "codemirror_mode": {
    "name": "ipython",
    "version": 3
   },
   "file_extension": ".py",
   "mimetype": "text/x-python",
   "name": "python",
   "nbconvert_exporter": "python",
   "pygments_lexer": "ipython3"
  }
 },
 "nbformat": 4,
 "nbformat_minor": 2
}
