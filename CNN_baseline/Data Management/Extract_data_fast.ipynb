{
 "cells": [
  {
   "cell_type": "code",
   "execution_count": null,
   "metadata": {},
   "outputs": [],
   "source": [
    "##########################################################################\n",
    "#\n",
    "# Last Modification to extract data from images\n",
    "#\n",
    "##########################################################################"
   ]
  },
  {
   "cell_type": "code",
   "execution_count": null,
   "metadata": {},
   "outputs": [],
   "source": [
    "from PIL import Image\n",
    "import glob #globbing utility.\n",
    "import numpy as np\n",
    "f = open(\"I:\\\\IMDB\\\\gesis cleaned\\\\g_m.csv\", \"a\")\n",
    "path = 'I:\\\\IMDB\\\\gesis cleaned\\\\Male\\\\*.jpg'    # selecting the path of the images\n",
    "for file in glob.glob(path):\n",
    "    imm = Image.open(file)\n",
    "    im = imm.convert(mode='L')\n",
    "    d = np.array(resize_im(im, 100,100))\n",
    "    re_s = reshape(d)\n",
    "    np.savetxt(f, re_s, delimiter=\",\", fmt = '%d') #ADD FILENAME \n",
    "    print(file ,\"------------------------------- Done\")"
   ]
  }
 ],
 "metadata": {
  "kernelspec": {
   "display_name": "Python 3",
   "language": "python",
   "name": "python3"
  },
  "language_info": {
   "codemirror_mode": {
    "name": "ipython",
    "version": 3
   },
   "file_extension": ".py",
   "mimetype": "text/x-python",
   "name": "python",
   "nbconvert_exporter": "python",
   "pygments_lexer": "ipython3"
  }
 },
 "nbformat": 4,
 "nbformat_minor": 2
}
