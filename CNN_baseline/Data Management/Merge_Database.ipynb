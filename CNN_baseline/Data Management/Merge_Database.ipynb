{
 "cells": [
  {
   "cell_type": "code",
   "execution_count": null,
   "metadata": {},
   "outputs": [],
   "source": [
    "# #############################################################################\n",
    "# Importing necessary libraries for creating model\n",
    "\n",
    "import numpy as np\n",
    "import pandas as pd\n",
    "import matplotlib.pyplot as plt\n",
    "import seaborn as sns"
   ]
  },
  {
   "cell_type": "code",
   "execution_count": null,
   "metadata": {},
   "outputs": [],
   "source": [
    "# #############################################################################\n",
    "# Merging two database and saving in a new file based on url\n",
    "\n",
    "data1 = pd.read_csv('face_female.csv', header = None)\n",
    "data2 = pd.read_csv('gesis_female.csv', header = None)\n",
    "da1 = pd.DataFrame({\"Name1\": data1[0], \"Url1\": data1[1], \"F_Confidence\": data1[2], \"F_Gender\": data1[3]})\n",
    "da2 = pd.DataFrame({\"Name2\": data1[0], \"Url2\": data2[1], \"G_Confidence\": data2[2]*100, \"G_Gender\": data2[3]})\n",
    "merg = da1.merge(da2, left_on = 'Url1', right_on = 'Url2', how = 'inner')\n",
    "files = np.array(merg, dtype = set)\n",
    "nd = open(\"Result_Female.csv\", \"a\")\n",
    "np.savetxt(nd, files, delimiter=\",\", fmt='%s')"
   ]
  },
  {
   "cell_type": "code",
   "execution_count": null,
   "metadata": {},
   "outputs": [],
   "source": [
    "# #############################################################################\n",
    "# Reading the data and identified the parameter\n",
    "\n",
    "R_data = pd.read_csv('Result_Female.csv', header = None)\n",
    "R_female = pd.DataFrame({\"C_FACE\": R_data[2], \"C_GESIS\": R_data[5], \"Difference\": R_data[7], \n",
    "                         \"G_FACE\": R_data[3], \"G_GESIS\": R_data[6], \"G_Predict\": R_data[8]})"
   ]
  },
  {
   "cell_type": "code",
   "execution_count": null,
   "metadata": {},
   "outputs": [],
   "source": [
    "# #############################################################################\n",
    "# Ploting the differences between two group of confidence\n",
    "\n",
    "plt.plot(R_female.Difference)\n",
    "plt.ylabel('FaceConfidence - GesisConfidence')\n",
    "plt.xlabel('Index Number')\n",
    "plt.title('Difference between Confidence')\n",
    "plt.savefig('R_female.jpg', dpi = 1000)"
   ]
  }
 ],
 "metadata": {
  "kernelspec": {
   "display_name": "Python 3",
   "language": "python",
   "name": "python3"
  },
  "language_info": {
   "codemirror_mode": {
    "name": "ipython",
    "version": 3
   },
   "file_extension": ".py",
   "mimetype": "text/x-python",
   "name": "python",
   "nbconvert_exporter": "python",
   "pygments_lexer": "ipython3"
  }
 },
 "nbformat": 4,
 "nbformat_minor": 2
}
