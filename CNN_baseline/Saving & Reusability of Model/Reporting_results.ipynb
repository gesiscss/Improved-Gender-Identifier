{
 "cells": [
  {
   "cell_type": "code",
   "execution_count": null,
   "metadata": {},
   "outputs": [],
   "source": []
  },
  {
   "cell_type": "code",
   "execution_count": null,
   "metadata": {},
   "outputs": [],
   "source": [
    "# #############################################################################\n",
    "# Predicting gender and reporting the precision, recall F1-score and accuracy\n",
    "\n",
    "from sklearn.metrics import classification_report, confusion_matrix\n",
    "\n",
    "y_pred = loaded_model.predict_classes(f_x)    # Predicting the gender\n",
    "prob = np.asmatrix(loaded_model.predict(f_x))   # Calculating the probability\n",
    "g_label = [\"Female\", \"Male\"]\n",
    "def result(d):           # Finding the requird results\n",
    "    if d[0,0] > d[0,1]:\n",
    "        return d[0,0], g_label[0]\n",
    "    if d[0,0] < d[0,1]:\n",
    "        return d[0,1], g_label[1]\n",
    "gh = result(prob)\n",
    "files = np.array((row[0], url, gh[0], gh[1]), dtype = str)    # Must be string data\n",
    "d = open(\"gesis_female.csv\", \"a\")\n",
    "re_dat = reshape(files)     # Need to reshape again\n",
    "np.savetxt(d, re_dat, delimiter=\",\", fmt='%s')    # Saving the output\n",
    "print(\"Confidence:\", gh[0] , \"Gender:\", gh[1] )"
   ]
  }
 ],
 "metadata": {
  "kernelspec": {
   "display_name": "Python 3",
   "language": "python",
   "name": "python3"
  },
  "language_info": {
   "codemirror_mode": {
    "name": "ipython",
    "version": 3
   },
   "file_extension": ".py",
   "mimetype": "text/x-python",
   "name": "python",
   "nbconvert_exporter": "python",
   "pygments_lexer": "ipython3"
  }
 },
 "nbformat": 4,
 "nbformat_minor": 2
}
