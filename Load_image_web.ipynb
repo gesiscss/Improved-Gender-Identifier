{
 "cells": [
  {
   "cell_type": "code",
   "execution_count": null,
   "metadata": {},
   "outputs": [],
   "source": [
    "# #############################################################################\n",
    "# Download image from website\n",
    "\n",
    "\n",
    "import random\n",
    "import urllib.request\n",
    "\n",
    "def web_link(url):\n",
    "    name = random.randrange(1,100)\n",
    "    fullname = str(name)+\".jpg\"\n",
    "    urllib.request.urlretrieve(url,fullname)     \n",
    "    \n",
    "web_link(\"https://github.com/gesiscss/Improved-Gender-Identifier/blob/master/Gender_classification_CNN/Data/a.jpeg\")"
   ]
  },
  {
   "cell_type": "code",
   "execution_count": null,
   "metadata": {},
   "outputs": [],
   "source": []
  }
 ],
 "metadata": {
  "kernelspec": {
   "display_name": "Python 3",
   "language": "python",
   "name": "python3"
  },
  "language_info": {
   "codemirror_mode": {
    "name": "ipython",
    "version": 3
   },
   "file_extension": ".py",
   "mimetype": "text/x-python",
   "name": "python",
   "nbconvert_exporter": "python",
   "pygments_lexer": "ipython3",
   "version": "3.7.3"
  }
 },
 "nbformat": 4,
 "nbformat_minor": 2
}
