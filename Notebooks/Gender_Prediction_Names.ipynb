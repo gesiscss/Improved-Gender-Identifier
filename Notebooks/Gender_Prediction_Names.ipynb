{
 "cells": [
  {
   "cell_type": "markdown",
   "metadata": {},
   "source": [
    "This notebook is created at GESIS for general public to test \"gender\" package for inferring gender from names. It is a supplement to the GESIS Gender Inference website. For troobleshooting and citation info please refer [here](https://cran.r-project.org/web/packages/gender/)."
   ]
  },
  {
   "cell_type": "code",
   "execution_count": null,
   "metadata": {},
   "outputs": [],
   "source": [
    "library(gender)\n",
    "name <- \"Madison\"\n",
    "gender(c(name), years = 1930, method = \"ssa\")"
   ]
  },
  {
   "cell_type": "code",
   "execution_count": null,
   "metadata": {},
   "outputs": [],
   "source": []
  }
 ],
 "metadata": {
  "kernelspec": {
   "display_name": "R",
   "language": "R",
   "name": "ir"
  },
  "language_info": {
   "codemirror_mode": "r",
   "file_extension": ".r",
   "mimetype": "text/x-r-source",
   "name": "R",
   "pygments_lexer": "r"
  }
 },
 "nbformat": 4,
 "nbformat_minor": 2
}
