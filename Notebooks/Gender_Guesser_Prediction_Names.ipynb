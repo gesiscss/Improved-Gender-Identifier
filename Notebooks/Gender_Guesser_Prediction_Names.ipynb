{
 "cells": [
  {
   "cell_type": "markdown",
   "metadata": {},
   "source": [
    "This notebook is created at GESIS for general public to test Gender Guesser package on gender inference from names. It is a supplement to the GESIS Gender Inference website. You can upload your own list of names. All data is deleted afterwards."
   ]
  },
  {
   "cell_type": "code",
   "execution_count": null,
   "metadata": {},
   "outputs": [],
   "source": [
    "import gender_guesser.detector as gender\n",
    "import ipywidgets as widgets\n",
    "import pandas as pd\n",
    "import codecs\n",
    "from io import StringIO\n",
    "from IPython.display import clear_output"
   ]
  },
  {
   "cell_type": "markdown",
   "metadata": {},
   "source": [
    "Gender_Guesser will return one of the following results: unknown (name not found), andy (androgynous, probability of male is the same as female), male, female, mostly_male, or mostly_female. "
   ]
  },
  {
   "cell_type": "code",
   "execution_count": null,
   "metadata": {},
   "outputs": [],
   "source": [
    "name = widgets.Text(\n",
    "    value='Bob',\n",
    "    description='Name:',\n",
    "    disabled=False\n",
    ")\n",
    "run = widgets.Button(description=\"Run\")\n",
    "display(name, run)\n",
    "\n",
    "def on_run_clicked(b):\n",
    "    '''Predicting gender from one name'''\n",
    "    d = gender.Detector()\n",
    "    print(f\"Gender of the given name: {d.get_gender(name.value)}\")\n",
    "    \n",
    "    \n",
    "run.on_click(on_run_clicked)"
   ]
  },
  {
   "cell_type": "markdown",
   "metadata": {},
   "source": [
    "I18N is also fully supported:"
   ]
  },
  {
   "cell_type": "code",
   "execution_count": null,
   "metadata": {},
   "outputs": [],
   "source": [
    "d = gender.Detector()\n",
    "print(d.get_gender(u\"\\xc1lfr\\xfan\"))  # u\"Álfrún\""
   ]
  },
  {
   "cell_type": "markdown",
   "metadata": {},
   "source": [
    "Gender_Guesser also takes country name as a parameter:"
   ]
  },
  {
   "cell_type": "code",
   "execution_count": null,
   "metadata": {},
   "outputs": [],
   "source": [
    "print(d.get_gender(u\"Jamie\", u'great_britain'))\n",
    "print(d.get_gender(u\"Jamie\", u'germany'))"
   ]
  },
  {
   "cell_type": "markdown",
   "metadata": {},
   "source": [
    "Upload your csv file using the button below to run Gender_Guesser on a list of names. Each row should have a name (by default detector is case sensitive, you can change it by adding a parameter *case_sensitive=False*) and optionally a country. <br/>\n",
    "Please make sure the csv file has \",\" as a separator and no space between the columns"
   ]
  },
  {
   "cell_type": "code",
   "execution_count": null,
   "metadata": {},
   "outputs": [],
   "source": [
    "upload = widgets.FileUpload(\n",
    "        accept='.csv', \n",
    "        multiple=False  \n",
    "    )\n",
    "run = widgets.Button(description=\"Run\")\n",
    "display(upload, run)\n",
    "global submitted \n",
    "submitted = False\n",
    "\n",
    "def on_run_clicked(b):\n",
    "    '''Predicting gender from a list of names'''\n",
    "    \n",
    "    global submitted\n",
    "    d = gender.Detector()\n",
    "    \n",
    "    #extracting the content of csv file as a string\n",
    "    uploaded_filename = next(iter(upload.value))\n",
    "    content = codecs.decode(upload.value[uploaded_filename]['content'], encoding=\"utf-8\")\n",
    "    \n",
    "    #converting a string to a dataframe\n",
    "    datatbl = StringIO(content)\n",
    "    names_df = pd.read_table(datatbl,sep=',',header=None, index_col=None)\n",
    "    \n",
    "    #case with countries\n",
    "    if len(names_df.columns)>1:\n",
    "        names_df = names_df.rename(columns={0:\"Name\", 1:\"Country\"})\n",
    "        names_df[\"Gender\"] = names_df.apply(lambda x: d.get_gender(x.Name, x.Country), axis=1)\n",
    "    #case with only names\n",
    "    else:\n",
    "        names_df = names_df.rename(columns={0:\"Name\"})\n",
    "        names_df[\"Gender\"] = names_df.apply(lambda x: d.get_gender(x.Name), axis=1)\n",
    "    if submitted == True:\n",
    "        clear_output()\n",
    "        display(upload,run)\n",
    "    display(names_df)\n",
    "    submitted = True\n",
    "    \n",
    "    \n",
    "run.on_click(on_run_clicked)"
   ]
  },
  {
   "cell_type": "code",
   "execution_count": null,
   "metadata": {},
   "outputs": [],
   "source": []
  }
 ],
 "metadata": {
  "kernelspec": {
   "display_name": "Python 3",
   "language": "python",
   "name": "python3"
  },
  "language_info": {
   "codemirror_mode": {
    "name": "ipython",
    "version": 3
   },
   "file_extension": ".py",
   "mimetype": "text/x-python",
   "name": "python",
   "nbconvert_exporter": "python",
   "pygments_lexer": "ipython3"
  }
 },
 "nbformat": 4,
 "nbformat_minor": 2
}
