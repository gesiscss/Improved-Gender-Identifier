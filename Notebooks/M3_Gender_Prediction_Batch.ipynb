{
 "cells": [
  {
   "cell_type": "markdown",
   "metadata": {},
   "source": [
    "This GESIS notebook demonstrates the functionality of M3 to infer the gender of people using images. It is a supplement to the [GESIS Gender Inference website](http://193.175.238.89/Gender_Inference/mixed.html), which includes more details, guidelines and limitations that you should consider before using this notebook."
   ]
  },
  {
   "cell_type": "markdown",
   "metadata": {},
   "source": [
    "**Please be patient and wait until the notebook loads completely. Do not restart or refresh the page**"
   ]
  },
  {
   "cell_type": "markdown",
   "metadata": {},
   "source": [
    "1. If notebook is not run on the launch, please run all cells by clicking \"Cell\" -> \"Run all\" <br/>\n",
    "2. Upload several photos from your computer by clicking \"Upload\" <br/>\n",
    "3. If you want to run M3 with both images and names select an option \"With names\". Filenames will be regarded as names. <br/>\n",
    "4. Press \"Submit\" to run the model on your data. The outcome will be displayed in the table with predicted gender and confidence. The results are also saved to the csv file <br/>\n",
    "4. Button \"Clear\" ensures no data is stored afterwards"
   ]
  },
  {
   "cell_type": "markdown",
   "metadata": {},
   "source": [
    "<b>Important</b>: After clicking \"Cell\" -> \"Run all\", If the buttons are not appearing please restart the kernal or refresh the page."
   ]
  },
  {
   "cell_type": "code",
   "execution_count": null,
   "metadata": {
    "init_cell": true
   },
   "outputs": [
    {
     "data": {
      "application/javascript": [
       "IPython.notebook.execute_cells_below()"
      ],
      "text/plain": [
       "<IPython.core.display.Javascript object>"
      ]
     },
     "metadata": {},
     "output_type": "display_data"
    }
   ],
   "source": [
    "from ipywidgets import Layout, VBox, HBox\n",
    "import ipywidgets as widgets\n",
    "import requests as requests\n",
    "from IPython.display import clear_output, Javascript\n",
    "from PIL import Image\n",
    "import sys\n",
    "from m3inference import M3Inference\n",
    "from io import BytesIO\n",
    "import json\n",
    "import pprint\n",
    "import urllib.request\n",
    "import os\n",
    "from IPython.display import HTML\n",
    "from pathlib import Path\n",
    "import shutil\n",
    "import csv\n",
    "import random\n",
    "import operator\n",
    "import pandas as pd\n",
    "import string\n",
    "\n",
    "import warnings\n",
    "warnings.filterwarnings('ignore') #hide warnings\n",
    "\n",
    "import logging\n",
    "logger = logging.getLogger()\n",
    "logger.setLevel(logging.CRITICAL) #hide info messages\n",
    "\n",
    "%reload_ext autoreload\n",
    "%autoreload 2\n",
    "display(Javascript('IPython.notebook.execute_cells_below()'))\n",
    "\n",
    "source = \"../Gender_classification_M3/Trained Model/full_model.mdl\"\n",
    "\n",
    "# Destination path\n",
    "destination = \"/home/jovyan/m3/models/full_model.mdl\"\n",
    "if Path(\"/home/jovyan/\").exists():\n",
    "    if not Path(\"/home/jovyan/m3/models/\").exists():\n",
    "        os.mkdir(\"/home/jovyan/m3/\")\n",
    "        os.mkdir(\"/home/jovyan/m3/models/\")\n",
    "        dest = shutil.copyfile(source, destination)\n",
    "m3 = M3Inference()"
   ]
  },
  {
   "cell_type": "code",
   "execution_count": null,
   "metadata": {},
   "outputs": [],
   "source": [
    "HTML('''<script>\n",
    "code_show=true;\n",
    "function code_toggle() {\n",
    " if (code_show){\n",
    " $('div.input').hide();\n",
    " } else {\n",
    " $('div.input').show();\n",
    " }\n",
    " code_show = !code_show\n",
    "}\n",
    "$( document ).ready(code_toggle);\n",
    "</script>\n",
    "The raw code for this IPython notebook is by default hidden for easier reading.\n",
    "To toggle on/off the raw code, click <a href=\"javascript:code_toggle()\">here</a>.''')"
   ]
  },
  {
   "cell_type": "code",
   "execution_count": null,
   "metadata": {},
   "outputs": [],
   "source": [
    "# Running the M3 inference and getting the gender\n",
    "def M3_inference():\n",
    "    with open('data.jsonl') as json_file:\n",
    "        data = json.load(json_file)\n",
    "    pred = m3.infer(data['images'])\n",
    "    with open('output.csv', 'w', newline='') as output:   # output file is created\n",
    "        wr = csv.writer(output, quoting=csv.QUOTE_ALL)\n",
    "        wr.writerow(['Filename', 'M3_Gender', 'Confidence'])\n",
    "        for tup in pred.items():\n",
    "            gender_conf = tup[1]['gender']\n",
    "            gender = max(gender_conf.items(), key=operator.itemgetter(1))\n",
    "            wr.writerow([tup[0], gender[0], gender[1]])\n",
    "    output_df = pd.read_csv(\"output.csv\")\n",
    "    text = HTML('<p>The results are saved in the <a href=\"output.csv\" target=\"_blank\">csv file</a> and the folder with photos is <a href=\"images\" target=\"_blank\">here</a> (in case you did not press on \"Clear\" yet, which deletes the stored data). </p>')\n",
    "    display(output_df, text, clear)"
   ]
  },
  {
   "cell_type": "markdown",
   "metadata": {},
   "source": [
    "Please upload images from your computer all at once. The *name field* is optional, but M3 with both visual and textual inputs provides more accurate results. <br/>\n",
    "If you want M3 to use names, select the corresponding option. The service will use filenames as firstnames for each image.\n"
   ]
  },
  {
   "cell_type": "code",
   "execution_count": null,
   "metadata": {},
   "outputs": [],
   "source": [
    "# Set up layout for upload widgets\n",
    "def on_upload_change(b):\n",
    "    upload._counter = len(list(upload.value.keys()))\n",
    "\n",
    "def initialize_widgets():\n",
    "    global upload, name, layout\n",
    "    upload = widgets.FileUpload(\n",
    "        accept='image/*',\n",
    "        multiple=True\n",
    "    )\n",
    "    name = widgets.RadioButtons(\n",
    "        options=['Without names', 'With names'],\n",
    "        value='Without names',\n",
    "        description='M3 option:',\n",
    "        disabled=False\n",
    "    )\n",
    "    layout = VBox([upload, name, submit])\n",
    "    display(layout)\n",
    "    upload.observe(on_upload_change, names='_counter')\n",
    "\n",
    "global clear, submit, submitted, bool_names\n",
    "submitted = False\n",
    "bool_names = False\n",
    "submit = widgets.Button(description=\"Submit\")\n",
    "clear = widgets.Button(description=\"Clear\")\n",
    "initialize_widgets()\n",
    "\n",
    "# Clear the output and delete the files\n",
    "\n",
    "\n",
    "def on_clear_clicked(b):\n",
    "    global submitted\n",
    "    clear_output()\n",
    "    initialize_widgets()\n",
    "    try:\n",
    "        shutil.rmtree(sys.path[0]+'/images/')\n",
    "    except:\n",
    "        pass\n",
    "    for filename in os.listdir(sys.path[0]+'/'):\n",
    "        if filename.endswith(\".csv\") or filename.endswith(\".jsonl\"):\n",
    "            os.remove(filename)\n",
    "    submitted = False\n",
    "\n",
    "# Resize and convert images for M3. Save the file (is deleted afterwards)\n",
    "\n",
    "\n",
    "def preprocess_and_save(content, filename):\n",
    "    stream = BytesIO(content)\n",
    "    image = Image.open(stream).convert(\"RGB\")\n",
    "    stream.close()\n",
    "    image = image.resize((224, 224))\n",
    "    image.save(f\"images/{filename}\")\n",
    "\n",
    "# Submitting an image either as fileupload or from url\n",
    "\n",
    "\n",
    "def on_submit_clicked(b):\n",
    "    global submitted, content, bool_names\n",
    "    if not upload.value:   # no input is given\n",
    "        print('No image has been uploaded')\n",
    "        return False\n",
    "    if name.value == 'With names':\n",
    "        bool_names = True\n",
    "    else:\n",
    "        bool_names = False\n",
    "    display(HTML('<b>Please be patient, don\\'t restart the kernel or refresh the page. The model may take some time to predict the gender.\\n \\n</b>'))\n",
    "    file_list = list(upload.value.keys())\n",
    "    if len(file_list) > 200:\n",
    "        file_list = file_list[:200]\n",
    "        display(HTML('The model will return the predictions only for the first 200 images.\\n'))\n",
    "    Path(\"images/\").mkdir(parents=True, exist_ok=True)\n",
    "    data = {}\n",
    "    data['images'] = []\n",
    "    for filename in file_list:\n",
    "        content = upload.value[filename]['content']   # extracting the bytes for images\n",
    "        preprocess_and_save(content, filename)\n",
    "        if bool_names == True:\n",
    "            data['images'].append({\n",
    "                \"description\": \"\",\n",
    "                \"id\": filename.split(\".\")[0],\n",
    "                \"img_path\": f\"images/{filename}\",\n",
    "                \"lang\": \"en\",\n",
    "                \"name\": filename.split(\".\")[0],\n",
    "                \"screen_name\": \"\"\n",
    "            })\n",
    "        else:\n",
    "            data['images'].append({\n",
    "                \"description\": \"\",\n",
    "                \"id\": filename,\n",
    "                \"img_path\": f\"images/{filename}\",\n",
    "                \"lang\": \"en\",\n",
    "                \"name\": \"\",\n",
    "                \"screen_name\": \"\"\n",
    "            })\n",
    "    with open('data.jsonl', 'w') as json_file:   # json file for m3 is created\n",
    "        json.dump(data, json_file)\n",
    "    if submitted:   # cleaning the previous results\n",
    "        clear_output()\n",
    "        initialize_widgets()\n",
    "    M3_inference()\n",
    "    submitted = True\n",
    "\n",
    "submit.on_click(on_submit_clicked)\n",
    "clear.on_click(on_clear_clicked)"
   ]
  },
  {
   "cell_type": "code",
   "execution_count": null,
   "metadata": {},
   "outputs": [],
   "source": []
  }
 ],
 "metadata": {
  "kernelspec": {
   "display_name": "Python 3",
   "language": "python",
   "name": "python3"
  },
  "language_info": {
   "codemirror_mode": {
    "name": "ipython",
    "version": 3
   },
   "file_extension": ".py",
   "mimetype": "text/x-python",
   "name": "python",
   "nbconvert_exporter": "python",
   "pygments_lexer": "ipython3"
  }
 },
 "nbformat": 4,
 "nbformat_minor": 2
}
