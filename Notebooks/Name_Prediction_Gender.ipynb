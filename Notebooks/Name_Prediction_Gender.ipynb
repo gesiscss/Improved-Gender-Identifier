{
 "cells": [
  {
   "cell_type": "markdown",
   "metadata": {},
   "source": [
    "This notebook is created at GESIS for general public to test \"gender\" package for inferring gender from names. It is a supplement to the GESIS Gender Inference website. For troobleshooting and citation info please refer [here](https://cran.r-project.org/web/packages/gender/)."
   ]
  },
  {
   "cell_type": "markdown",
   "metadata": {},
   "source": [
    "### SSA dictionary\n",
    "The first example uses SSA data (parameter \"method\" specifies the dictionary for inference). The \"gender\" function takes a character vector of names and a year or range of years as an input. "
   ]
  },
  {
   "cell_type": "code",
   "execution_count": null,
   "metadata": {},
   "outputs": [],
   "source": [
    "library(gender)\n",
    "name <- \"Madison\"  #Change the name here\n",
    "year <- 1930 #Change the year here\n",
    "gender(c(name), years = year, method = \"ssa\")"
   ]
  },
  {
   "cell_type": "markdown",
   "metadata": {},
   "source": [
    "As an outcome you get a proportion of male/female names at this year or period. Please keep in mind that time period is important: "
   ]
  },
  {
   "cell_type": "code",
   "execution_count": null,
   "metadata": {},
   "outputs": [],
   "source": [
    "year <- c(2000,2010)\n",
    "gender(c(name), years = year, method = \"ssa\")"
   ]
  },
  {
   "cell_type": "markdown",
   "metadata": {},
   "source": [
    "You can try gender() with a list of names or upload your csv file [here](data/) and run the next cell. The first row should contain a year or a period (in the format YYYY or YYYY-YYYY) and each following row should have a firstname only. Please type the name of the file in the variable *filepath*"
   ]
  },
  {
   "cell_type": "code",
   "execution_count": null,
   "metadata": {},
   "outputs": [],
   "source": [
    "filepath <- \"test.csv\"\n",
    "names <- read.csv(file = paste(\"data\", filepath, sep=\"/\"), header = FALSE, stringsAsFactors = FALSE)\n",
    "year <- names[1,1]\n",
    "len <- nrow(names)\n",
    "gender(c(names[2:len, 1]), years = year, method = \"ssa\")"
   ]
  },
  {
   "cell_type": "markdown",
   "metadata": {},
   "source": [
    "### IPUMS dictionary\n",
    "The same library also uses UPUMS data, to switch to it change parameter \"method\" to \"ipums\" (please note that the acceptable time range for it is 1789 to 1930)"
   ]
  },
  {
   "cell_type": "code",
   "execution_count": null,
   "metadata": {},
   "outputs": [],
   "source": [
    "gender(c(names[2:len, 1]), years = year, method = \"ipums\")"
   ]
  },
  {
   "cell_type": "markdown",
   "metadata": {},
   "source": [
    "### Genderize.io\n",
    "\"Gender\" package also can use the [Genderize API](https://genderize.io/). The \"years\" in this case is deprecated. Please note that free version is limited for up to 1000 names/day"
   ]
  },
  {
   "cell_type": "code",
   "execution_count": null,
   "metadata": {},
   "outputs": [],
   "source": [
    "gender(c(names[2:len, 1]), method = \"genderize\")"
   ]
  },
  {
   "cell_type": "code",
   "execution_count": null,
   "metadata": {},
   "outputs": [],
   "source": []
  }
 ],
 "metadata": {
  "kernelspec": {
   "display_name": "R",
   "language": "R",
   "name": "ir"
  },
  "language_info": {
   "codemirror_mode": "r",
   "file_extension": ".r",
   "mimetype": "text/x-r-source",
   "name": "R",
   "pygments_lexer": "r"
  }
 },
 "nbformat": 4,
 "nbformat_minor": 2
}
