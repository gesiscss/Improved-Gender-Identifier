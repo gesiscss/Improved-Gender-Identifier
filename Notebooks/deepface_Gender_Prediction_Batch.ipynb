{
 "cells": [
  {
   "cell_type": "markdown",
   "metadata": {},
   "source": [
    "This notebook is created at GESIS for general public to test <a href=\"https://github.com/serengil/deepface\">Deepface</a> on gender inference from images. It is a supplement to the [GESIS Gender Inference website](http://193.175.238.89/Gender_Inference/images.html). You can upload your own image or use a url. All data is deleted afterwards."
   ]
  },
  {
   "cell_type": "markdown",
   "metadata": {},
   "source": [
    "1. Run all cells by clicking \"Cell\" -> \"Run all\" <br/>\n",
    "2. Upload several photos from your computer by clicking \"Upload\" <br/>\n",
    "3. Press \"Submit\" to run the model on your data. The outcome will be displayed in the table with predicted gender and confidence. The results are also saved to the csv file <br/>\n",
    "4. Button \"Clear\" ensures no data is stored afterwards"
   ]
  },
  {
   "cell_type": "markdown",
   "metadata": {},
   "source": [
    "<b>Important</b>: After clicking \"Cell\" -> \"Run all\", If the buttons are not appearing please restart the kernal or refresh the page."
   ]
  },
  {
   "cell_type": "code",
   "execution_count": 1,
   "metadata": {},
   "outputs": [],
   "source": [
    "import os\n",
    "import sys\n",
    "import logging\n",
    "\n",
    "os.environ['TF_CPP_MIN_LOG_LEVEL'] = '3'\n",
    "\n",
    "# Keras outputs warnings using `print` to stderr so let's direct that to devnull temporarily\n",
    "stderr = sys.stderr\n",
    "sys.stderr = open(os.devnull, 'w')\n",
    "\n",
    "\n",
    "# Importing necessary libraries\n",
    "from ipywidgets import VBox, HBox\n",
    "import ipywidgets as widgets\n",
    "from IPython.display import clear_output\n",
    "from PIL import Image\n",
    "from IPython.display import HTML\n",
    "from pathlib import Path\n",
    "from io import BytesIO\n",
    "import json\n",
    "import os\n",
    "import requests as requests\n",
    "from IPython.display import HTML\n",
    "from deepface import DeepFace\n",
    "from deepface.extendedmodels import  Gender\n",
    "import shutil \n",
    "import csv\n",
    "import pandas as pd\n",
    "import pathlib\n",
    "import shutil\n",
    "from tqdm import tnrange\n",
    "\n",
    "# Load the gender model weights\n",
    "home = str(Path.home())\n",
    "source = '../DeepFace/gender_model_weights.h5'\n",
    "destination = home+'/.deepface/weights/gender_model_weights.h5'\n",
    "if not pathlib.Path(destination).exists():\n",
    "    if not pathlib.Path(home+'/.deepface/weights/').exists():\n",
    "        os.mkdir(home + \"/.deepface/\")\n",
    "        os.mkdir(home + \"/.deepface/weights/\")\n",
    "    dest = shutil.copyfile(source, destination)\n",
    "\n",
    "# Initiate a gender model\n",
    "models = {}\n",
    "models[\"gender\"] = Gender.loadModel()\n",
    "clear_output()"
   ]
  },
  {
   "cell_type": "code",
   "execution_count": 2,
   "metadata": {},
   "outputs": [
    {
     "data": {
      "text/html": [
       "<script>\n",
       "code_show=true;\n",
       "function code_toggle() {\n",
       " if (code_show){\n",
       " $('div.input').hide();\n",
       " } else {\n",
       " $('div.input').show();\n",
       " }\n",
       " code_show = !code_show\n",
       "}\n",
       "$( document ).ready(code_toggle);\n",
       "</script>\n",
       "The raw code for this IPython notebook is by default hidden for easier reading.\n",
       "To toggle on/off the raw code, click <a href=\"javascript:code_toggle()\">here</a>."
      ],
      "text/plain": [
       "<IPython.core.display.HTML object>"
      ]
     },
     "execution_count": 2,
     "metadata": {},
     "output_type": "execute_result"
    }
   ],
   "source": [
    "HTML('''<script>\n",
    "code_show=true;\n",
    "function code_toggle() {\n",
    " if (code_show){\n",
    " $('div.input').hide();\n",
    " } else {\n",
    " $('div.input').show();\n",
    " }\n",
    " code_show = !code_show\n",
    "}\n",
    "$( document ).ready(code_toggle);\n",
    "</script>\n",
    "The raw code for this IPython notebook is by default hidden for easier reading.\n",
    "To toggle on/off the raw code, click <a href=\"javascript:code_toggle()\">here</a>.''')"
   ]
  },
  {
   "cell_type": "code",
   "execution_count": 3,
   "metadata": {},
   "outputs": [],
   "source": [
    "# running deepface\n",
    "def deepface(filename):\n",
    "    deepface_pred = DeepFace.analyze(f\"images/{filename}\", models=models, actions=['gender'], enforce_detection=True)\n",
    "    if deepface_pred['gender'] == 'Woman':\n",
    "            gender = 'Female'\n",
    "    if deepface_pred['gender'] == 'Man':\n",
    "            gender = 'Male'\n",
    "    return gender"
   ]
  },
  {
   "cell_type": "markdown",
   "metadata": {},
   "source": [
    "Please upload images from your computer all at once."
   ]
  },
  {
   "cell_type": "code",
   "execution_count": 4,
   "metadata": {},
   "outputs": [
    {
     "data": {
      "application/vnd.jupyter.widget-view+json": {
       "model_id": "ffe2b8bc3ee74aa8b4fcba145b7b8550",
       "version_major": 2,
       "version_minor": 0
      },
      "text/plain": [
       "VBox(children=(FileUpload(value={}, accept='image/*', description='Upload', multiple=True), Button(description…"
      ]
     },
     "metadata": {},
     "output_type": "display_data"
    },
    {
     "data": {
      "text/html": [
       "<b>Please be patient, don't restart the kernel or refresh the page. The model may take some time to predict the gender.\n",
       " \n",
       "</b>"
      ],
      "text/plain": [
       "<IPython.core.display.HTML object>"
      ]
     },
     "metadata": {},
     "output_type": "display_data"
    },
    {
     "data": {
      "application/vnd.jupyter.widget-view+json": {
       "model_id": "91898bda517749f6a00705f153f1bf1f",
       "version_major": 2,
       "version_minor": 0
      },
      "text/plain": [
       "HBox(children=(FloatProgress(value=0.0, description='Progress', max=10.0, style=ProgressStyle(description_widt…"
      ]
     },
     "metadata": {},
     "output_type": "display_data"
    },
    {
     "name": "stdout",
     "output_type": "stream",
     "text": [
      "\n"
     ]
    },
    {
     "data": {
      "text/html": [
       "The results are presented in the table below. NaN values indicate that no faces have been detected on a picture."
      ],
      "text/plain": [
       "<IPython.core.display.HTML object>"
      ]
     },
     "metadata": {},
     "output_type": "display_data"
    },
    {
     "data": {
      "text/html": [
       "<div>\n",
       "<style scoped>\n",
       "    .dataframe tbody tr th:only-of-type {\n",
       "        vertical-align: middle;\n",
       "    }\n",
       "\n",
       "    .dataframe tbody tr th {\n",
       "        vertical-align: top;\n",
       "    }\n",
       "\n",
       "    .dataframe thead th {\n",
       "        text-align: right;\n",
       "    }\n",
       "</style>\n",
       "<table border=\"1\" class=\"dataframe\">\n",
       "  <thead>\n",
       "    <tr style=\"text-align: right;\">\n",
       "      <th></th>\n",
       "      <th>Filename</th>\n",
       "      <th>Gender</th>\n",
       "    </tr>\n",
       "  </thead>\n",
       "  <tbody>\n",
       "    <tr>\n",
       "      <th>0</th>\n",
       "      <td>A.+Bolshakova.jpg</td>\n",
       "      <td>NaN</td>\n",
       "    </tr>\n",
       "    <tr>\n",
       "      <th>1</th>\n",
       "      <td>A.+V.+Andreev.jpg</td>\n",
       "      <td>Male</td>\n",
       "    </tr>\n",
       "    <tr>\n",
       "      <th>2</th>\n",
       "      <td>A.+V.+Litvinov.jpg</td>\n",
       "      <td>Male</td>\n",
       "    </tr>\n",
       "    <tr>\n",
       "      <th>3</th>\n",
       "      <td>A.+Zhemchugov.jpg</td>\n",
       "      <td>NaN</td>\n",
       "    </tr>\n",
       "    <tr>\n",
       "      <th>4</th>\n",
       "      <td>Abdallah+Oihabi.jpg</td>\n",
       "      <td>NaN</td>\n",
       "    </tr>\n",
       "    <tr>\n",
       "      <th>5</th>\n",
       "      <td>Abdul+H.+Sultan.jpg</td>\n",
       "      <td>Male</td>\n",
       "    </tr>\n",
       "    <tr>\n",
       "      <th>6</th>\n",
       "      <td>Abdulrahman+M.+Al-Ahmari.jpg</td>\n",
       "      <td>Male</td>\n",
       "    </tr>\n",
       "    <tr>\n",
       "      <th>7</th>\n",
       "      <td>Abu+James+Sundufu.jpg</td>\n",
       "      <td>NaN</td>\n",
       "    </tr>\n",
       "    <tr>\n",
       "      <th>8</th>\n",
       "      <td>Acaio+Zuniga+Leite.jpg</td>\n",
       "      <td>Male</td>\n",
       "    </tr>\n",
       "    <tr>\n",
       "      <th>9</th>\n",
       "      <td>Adam+M.+Sonabend.jpg</td>\n",
       "      <td>Male</td>\n",
       "    </tr>\n",
       "  </tbody>\n",
       "</table>\n",
       "</div>"
      ],
      "text/plain": [
       "                       Filename Gender\n",
       "0             A.+Bolshakova.jpg    NaN\n",
       "1             A.+V.+Andreev.jpg   Male\n",
       "2            A.+V.+Litvinov.jpg   Male\n",
       "3             A.+Zhemchugov.jpg    NaN\n",
       "4           Abdallah+Oihabi.jpg    NaN\n",
       "5           Abdul+H.+Sultan.jpg   Male\n",
       "6  Abdulrahman+M.+Al-Ahmari.jpg   Male\n",
       "7         Abu+James+Sundufu.jpg    NaN\n",
       "8        Acaio+Zuniga+Leite.jpg   Male\n",
       "9          Adam+M.+Sonabend.jpg   Male"
      ]
     },
     "metadata": {},
     "output_type": "display_data"
    },
    {
     "data": {
      "application/vnd.jupyter.widget-view+json": {
       "model_id": "2d7ba06c4349452cba28314ed957a4d4",
       "version_major": 2,
       "version_minor": 0
      },
      "text/plain": [
       "Button(description='Clear', style=ButtonStyle())"
      ]
     },
     "metadata": {},
     "output_type": "display_data"
    }
   ],
   "source": [
    "# Set up layout for upload widgets\n",
    "\n",
    "\n",
    "def initialize_widgets():\n",
    "    global upload, layout\n",
    "    upload = widgets.FileUpload(\n",
    "        accept='image/*',\n",
    "        multiple=True\n",
    "    )\n",
    "    layout = VBox([upload, submit])\n",
    "    display(layout)\n",
    "\n",
    "global clear, submit, submitted\n",
    "submitted = False\n",
    "submit = widgets.Button(description=\"Submit\")\n",
    "clear = widgets.Button(description=\"Clear\")\n",
    "initialize_widgets()\n",
    "\n",
    "# Clear the output and delete the files\n",
    "\n",
    "\n",
    "def on_clear_clicked(b):\n",
    "    global submitted\n",
    "    clear_output()\n",
    "    initialize_widgets()\n",
    "    for filename in os.listdir('./images/'):\n",
    "        if filename.endswith(\".csv\"):\n",
    "            os.remove(filename)\n",
    "    try:\n",
    "        shutil.rmtree('./images/')\n",
    "    except:\n",
    "        pass\n",
    "    submitted = False\n",
    "\n",
    "# Resize and convert images for M3. Save the file (is deleted afterwards)\n",
    "\n",
    "\n",
    "def preprocess_and_save(content, filename):\n",
    "    stream = BytesIO(content)\n",
    "    image = Image.open(stream).convert(\"RGB\")\n",
    "    stream.close()\n",
    "    image.save(f\"images/{filename}\")\n",
    "\n",
    "# Submitting an image either as fileupload or from url\n",
    "\n",
    "\n",
    "def on_submit_clicked(b):\n",
    "    global submitted, content\n",
    "    if not upload.value:   # no input is given\n",
    "        print('No image has been uploaded')\n",
    "        return False\n",
    "    display(HTML('<b>Please be patient, don\\'t restart the kernel or refresh the page. The model may take some time to predict the gender.\\n \\n</b>'))\n",
    "    file_list = list(upload.value.keys())\n",
    "    if len(file_list) > 200:\n",
    "        file_list = file_list[:200]\n",
    "        display(HTML('<b>The model will return the predictions only for the first 200 images.</b>'))\n",
    "    Path(\"images/\").mkdir(parents=True, exist_ok=True)\n",
    "    with open('output.csv', 'w', newline='') as output:   # output file is created\n",
    "        wr = csv.writer(output, quoting=csv.QUOTE_ALL)\n",
    "        wr.writerow(['Filename', 'Gender'])\n",
    "        for index in tnrange(len(file_list), desc =\"Progress\"):\n",
    "            content = upload.value[file_list[index]]['content']   # extracting the bytes for images\n",
    "            preprocess_and_save(content, file_list[index])\n",
    "            try:\n",
    "                pred_gender = deepface(file_list[index])\n",
    "                wr = csv.writer(output, quoting=csv.QUOTE_ALL)\n",
    "                wr.writerow([file_list[index], pred_gender])\n",
    "            except:\n",
    "                wr = csv.writer(output, quoting=csv.QUOTE_ALL)\n",
    "                wr.writerow([file_list[index], 'NaN'])    # if there is an error in returning gender , write undefined\n",
    "\n",
    "    if submitted:   # cleaning the previous results\n",
    "        clear_output()\n",
    "        initialize_widgets()\n",
    "    submitted = True\n",
    "    output_df = pd.read_csv(\"output.csv\")\n",
    "    display(HTML(\"The results are presented in the table below. NaN values indicate that no faces have been detected on a picture.\"))\n",
    "    display(output_df, clear)\n",
    "\n",
    "submit.on_click(on_submit_clicked)\n",
    "clear.on_click(on_clear_clicked)"
   ]
  },
  {
   "cell_type": "code",
   "execution_count": 5,
   "metadata": {},
   "outputs": [
    {
     "data": {
      "text/html": [
       "<p>The results are saved in the <a href=\"output.csv\" target=\"_blank\">csv file</a> and the folder with photos is <a href=\"images\" target=\"_blank\">here</a> (in case you did not press on \"Clear\" yet, which deletes the stored data). </p>"
      ],
      "text/plain": [
       "<IPython.core.display.HTML object>"
      ]
     },
     "metadata": {},
     "output_type": "display_data"
    }
   ],
   "source": [
    "text = HTML('<p>The results are saved in the <a href=\"output.csv\" target=\"_blank\">csv file</a> and the folder with photos is <a href=\"images\" target=\"_blank\">here</a> (in case you did not press on \"Clear\" yet, which deletes the stored data). </p>')\n",
    "display(text)"
   ]
  }
 ],
 "metadata": {
  "kernelspec": {
   "display_name": "p36workshop",
   "language": "python",
   "name": "p36workshop"
  },
  "language_info": {
   "codemirror_mode": {
    "name": "ipython",
    "version": 3
   },
   "file_extension": ".py",
   "mimetype": "text/x-python",
   "name": "python",
   "nbconvert_exporter": "python",
   "pygments_lexer": "ipython3",
   "version": "3.6.10"
  }
 },
 "nbformat": 4,
 "nbformat_minor": 2
}
