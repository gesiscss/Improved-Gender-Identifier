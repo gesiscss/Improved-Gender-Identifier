{
 "cells": [
  {
   "cell_type": "markdown",
   "metadata": {},
   "source": [
    "This GESIS notebook demonstrates the functionality of [Deepface model](https://github.com/serengil/deepface) to infer the gender of persons using images. It is a supplement to the [GESIS Gender Inference website](http://193.175.238.89/Gender_Inference/images.html), which includes more details, guidelines and limitations that you should consider before using this notebook."
   ]
  },
  {
   "cell_type": "markdown",
   "metadata": {},
   "source": [
    "Follow these steps to use the model for your own image or an image url. Upon exiting the notebook, all data will be deleted.\n",
    "1. If notebook is not run on the launch, please run all cells by clicking \"Cell\" -> \"Run all\" <br/>\n",
    "2. Upload several photos from your computer by clicking \"Upload\" <br/>\n",
    "3. Press \"Submit\" to run the model on your data. The outcome will be displayed in the table with predicted gender and confidence. The results are also saved to the csv file <br/>\n",
    "4. Button \"Clear\" ensures no data is stored afterwards"
   ]
  },
  {
   "cell_type": "markdown",
   "metadata": {},
   "source": [
    "<b>Important</b>: After clicking \"Cell\" -> \"Run all\", If the buttons are not appearing please restart the kernal or refresh the page."
   ]
  },
  {
   "cell_type": "code",
   "execution_count": null,
   "metadata": {
    "init_cell": true
   },
   "outputs": [
    {
     "data": {
      "application/javascript": [
       "IPython.notebook.execute_cells_below()"
      ],
      "text/plain": [
       "<IPython.core.display.Javascript object>"
      ]
     },
     "metadata": {},
     "output_type": "display_data"
    },
    {
     "ename": "OSError",
     "evalue": "Unable to open file (file signature not found)",
     "output_type": "error",
     "traceback": [
      "\u001b[0;31m---------------------------------------------------------------------------\u001b[0m",
      "\u001b[0;31mOSError\u001b[0m                                   Traceback (most recent call last)",
      "\u001b[0;32m<ipython-input-13-03f77e77609c>\u001b[0m in \u001b[0;36m<module>\u001b[0;34m\u001b[0m\n\u001b[1;32m     49\u001b[0m \u001b[0;31m# Initiate a gender model\u001b[0m\u001b[0;34m\u001b[0m\u001b[0;34m\u001b[0m\u001b[0m\n\u001b[1;32m     50\u001b[0m \u001b[0mmodels\u001b[0m \u001b[0;34m=\u001b[0m \u001b[0;34m{\u001b[0m\u001b[0;34m}\u001b[0m\u001b[0;34m\u001b[0m\u001b[0m\n\u001b[0;32m---> 51\u001b[0;31m \u001b[0mmodels\u001b[0m\u001b[0;34m[\u001b[0m\u001b[0;34m\"gender\"\u001b[0m\u001b[0;34m]\u001b[0m \u001b[0;34m=\u001b[0m \u001b[0mGender\u001b[0m\u001b[0;34m.\u001b[0m\u001b[0mloadModel\u001b[0m\u001b[0;34m(\u001b[0m\u001b[0;34m)\u001b[0m\u001b[0;34m\u001b[0m\u001b[0m\n\u001b[0m",
      "\u001b[0;32m~/.pyenv/versions/3.7.0/envs/testvirtenv/lib/python3.7/site-packages/deepface/extendedmodels/Gender.py\u001b[0m in \u001b[0;36mloadModel\u001b[0;34m()\u001b[0m\n\u001b[1;32m     38\u001b[0m                 \u001b[0mgdown\u001b[0m\u001b[0;34m.\u001b[0m\u001b[0mdownload\u001b[0m\u001b[0;34m(\u001b[0m\u001b[0murl\u001b[0m\u001b[0;34m,\u001b[0m \u001b[0moutput\u001b[0m\u001b[0;34m,\u001b[0m \u001b[0mquiet\u001b[0m\u001b[0;34m=\u001b[0m\u001b[0;32mFalse\u001b[0m\u001b[0;34m)\u001b[0m\u001b[0;34m\u001b[0m\u001b[0m\n\u001b[1;32m     39\u001b[0m \u001b[0;34m\u001b[0m\u001b[0m\n\u001b[0;32m---> 40\u001b[0;31m         \u001b[0mgender_model\u001b[0m\u001b[0;34m.\u001b[0m\u001b[0mload_weights\u001b[0m\u001b[0;34m(\u001b[0m\u001b[0mhome\u001b[0m\u001b[0;34m+\u001b[0m\u001b[0;34m'/.deepface/weights/gender_model_weights.h5'\u001b[0m\u001b[0;34m)\u001b[0m\u001b[0;34m\u001b[0m\u001b[0m\n\u001b[0m\u001b[1;32m     41\u001b[0m \u001b[0;34m\u001b[0m\u001b[0m\n\u001b[1;32m     42\u001b[0m         \u001b[0;32mreturn\u001b[0m \u001b[0mgender_model\u001b[0m\u001b[0;34m\u001b[0m\u001b[0m\n",
      "\u001b[0;32m~/.pyenv/versions/3.7.0/envs/testvirtenv/lib/python3.7/site-packages/keras/engine/saving.py\u001b[0m in \u001b[0;36mload_wrapper\u001b[0;34m(*args, **kwargs)\u001b[0m\n\u001b[1;32m    490\u001b[0m                 \u001b[0mos\u001b[0m\u001b[0;34m.\u001b[0m\u001b[0mremove\u001b[0m\u001b[0;34m(\u001b[0m\u001b[0mtmp_filepath\u001b[0m\u001b[0;34m)\u001b[0m\u001b[0;34m\u001b[0m\u001b[0m\n\u001b[1;32m    491\u001b[0m             \u001b[0;32mreturn\u001b[0m \u001b[0mres\u001b[0m\u001b[0;34m\u001b[0m\u001b[0m\n\u001b[0;32m--> 492\u001b[0;31m         \u001b[0;32mreturn\u001b[0m \u001b[0mload_function\u001b[0m\u001b[0;34m(\u001b[0m\u001b[0;34m*\u001b[0m\u001b[0margs\u001b[0m\u001b[0;34m,\u001b[0m \u001b[0;34m**\u001b[0m\u001b[0mkwargs\u001b[0m\u001b[0;34m)\u001b[0m\u001b[0;34m\u001b[0m\u001b[0m\n\u001b[0m\u001b[1;32m    493\u001b[0m \u001b[0;34m\u001b[0m\u001b[0m\n\u001b[1;32m    494\u001b[0m     \u001b[0;32mreturn\u001b[0m \u001b[0mload_wrapper\u001b[0m\u001b[0;34m\u001b[0m\u001b[0m\n",
      "\u001b[0;32m~/.pyenv/versions/3.7.0/envs/testvirtenv/lib/python3.7/site-packages/keras/engine/network.py\u001b[0m in \u001b[0;36mload_weights\u001b[0;34m(self, filepath, by_name, skip_mismatch, reshape)\u001b[0m\n\u001b[1;32m   1219\u001b[0m         \u001b[0;32mif\u001b[0m \u001b[0mh5py\u001b[0m \u001b[0;32mis\u001b[0m \u001b[0;32mNone\u001b[0m\u001b[0;34m:\u001b[0m\u001b[0;34m\u001b[0m\u001b[0m\n\u001b[1;32m   1220\u001b[0m             \u001b[0;32mraise\u001b[0m \u001b[0mImportError\u001b[0m\u001b[0;34m(\u001b[0m\u001b[0;34m'`load_weights` requires h5py.'\u001b[0m\u001b[0;34m)\u001b[0m\u001b[0;34m\u001b[0m\u001b[0m\n\u001b[0;32m-> 1221\u001b[0;31m         \u001b[0;32mwith\u001b[0m \u001b[0mh5py\u001b[0m\u001b[0;34m.\u001b[0m\u001b[0mFile\u001b[0m\u001b[0;34m(\u001b[0m\u001b[0mfilepath\u001b[0m\u001b[0;34m,\u001b[0m \u001b[0mmode\u001b[0m\u001b[0;34m=\u001b[0m\u001b[0;34m'r'\u001b[0m\u001b[0;34m)\u001b[0m \u001b[0;32mas\u001b[0m \u001b[0mf\u001b[0m\u001b[0;34m:\u001b[0m\u001b[0;34m\u001b[0m\u001b[0m\n\u001b[0m\u001b[1;32m   1222\u001b[0m             \u001b[0;32mif\u001b[0m \u001b[0;34m'layer_names'\u001b[0m \u001b[0;32mnot\u001b[0m \u001b[0;32min\u001b[0m \u001b[0mf\u001b[0m\u001b[0;34m.\u001b[0m\u001b[0mattrs\u001b[0m \u001b[0;32mand\u001b[0m \u001b[0;34m'model_weights'\u001b[0m \u001b[0;32min\u001b[0m \u001b[0mf\u001b[0m\u001b[0;34m:\u001b[0m\u001b[0;34m\u001b[0m\u001b[0m\n\u001b[1;32m   1223\u001b[0m                 \u001b[0mf\u001b[0m \u001b[0;34m=\u001b[0m \u001b[0mf\u001b[0m\u001b[0;34m[\u001b[0m\u001b[0;34m'model_weights'\u001b[0m\u001b[0;34m]\u001b[0m\u001b[0;34m\u001b[0m\u001b[0m\n",
      "\u001b[0;32m~/.pyenv/versions/3.7.0/envs/testvirtenv/lib/python3.7/site-packages/h5py/_hl/files.py\u001b[0m in \u001b[0;36m__init__\u001b[0;34m(self, name, mode, driver, libver, userblock_size, swmr, rdcc_nslots, rdcc_nbytes, rdcc_w0, track_order, **kwds)\u001b[0m\n\u001b[1;32m    392\u001b[0m                 fid = make_fid(name, mode, userblock_size,\n\u001b[1;32m    393\u001b[0m                                \u001b[0mfapl\u001b[0m\u001b[0;34m,\u001b[0m \u001b[0mfcpl\u001b[0m\u001b[0;34m=\u001b[0m\u001b[0mmake_fcpl\u001b[0m\u001b[0;34m(\u001b[0m\u001b[0mtrack_order\u001b[0m\u001b[0;34m=\u001b[0m\u001b[0mtrack_order\u001b[0m\u001b[0;34m)\u001b[0m\u001b[0;34m,\u001b[0m\u001b[0;34m\u001b[0m\u001b[0m\n\u001b[0;32m--> 394\u001b[0;31m                                swmr=swmr)\n\u001b[0m\u001b[1;32m    395\u001b[0m \u001b[0;34m\u001b[0m\u001b[0m\n\u001b[1;32m    396\u001b[0m             \u001b[0;32mif\u001b[0m \u001b[0mswmr_support\u001b[0m\u001b[0;34m:\u001b[0m\u001b[0;34m\u001b[0m\u001b[0m\n",
      "\u001b[0;32m~/.pyenv/versions/3.7.0/envs/testvirtenv/lib/python3.7/site-packages/h5py/_hl/files.py\u001b[0m in \u001b[0;36mmake_fid\u001b[0;34m(name, mode, userblock_size, fapl, fcpl, swmr)\u001b[0m\n\u001b[1;32m    168\u001b[0m         \u001b[0;32mif\u001b[0m \u001b[0mswmr\u001b[0m \u001b[0;32mand\u001b[0m \u001b[0mswmr_support\u001b[0m\u001b[0;34m:\u001b[0m\u001b[0;34m\u001b[0m\u001b[0m\n\u001b[1;32m    169\u001b[0m             \u001b[0mflags\u001b[0m \u001b[0;34m|=\u001b[0m \u001b[0mh5f\u001b[0m\u001b[0;34m.\u001b[0m\u001b[0mACC_SWMR_READ\u001b[0m\u001b[0;34m\u001b[0m\u001b[0m\n\u001b[0;32m--> 170\u001b[0;31m         \u001b[0mfid\u001b[0m \u001b[0;34m=\u001b[0m \u001b[0mh5f\u001b[0m\u001b[0;34m.\u001b[0m\u001b[0mopen\u001b[0m\u001b[0;34m(\u001b[0m\u001b[0mname\u001b[0m\u001b[0;34m,\u001b[0m \u001b[0mflags\u001b[0m\u001b[0;34m,\u001b[0m \u001b[0mfapl\u001b[0m\u001b[0;34m=\u001b[0m\u001b[0mfapl\u001b[0m\u001b[0;34m)\u001b[0m\u001b[0;34m\u001b[0m\u001b[0m\n\u001b[0m\u001b[1;32m    171\u001b[0m     \u001b[0;32melif\u001b[0m \u001b[0mmode\u001b[0m \u001b[0;34m==\u001b[0m \u001b[0;34m'r+'\u001b[0m\u001b[0;34m:\u001b[0m\u001b[0;34m\u001b[0m\u001b[0m\n\u001b[1;32m    172\u001b[0m         \u001b[0mfid\u001b[0m \u001b[0;34m=\u001b[0m \u001b[0mh5f\u001b[0m\u001b[0;34m.\u001b[0m\u001b[0mopen\u001b[0m\u001b[0;34m(\u001b[0m\u001b[0mname\u001b[0m\u001b[0;34m,\u001b[0m \u001b[0mh5f\u001b[0m\u001b[0;34m.\u001b[0m\u001b[0mACC_RDWR\u001b[0m\u001b[0;34m,\u001b[0m \u001b[0mfapl\u001b[0m\u001b[0;34m=\u001b[0m\u001b[0mfapl\u001b[0m\u001b[0;34m)\u001b[0m\u001b[0;34m\u001b[0m\u001b[0m\n",
      "\u001b[0;32mh5py/_objects.pyx\u001b[0m in \u001b[0;36mh5py._objects.with_phil.wrapper\u001b[0;34m()\u001b[0m\n",
      "\u001b[0;32mh5py/_objects.pyx\u001b[0m in \u001b[0;36mh5py._objects.with_phil.wrapper\u001b[0;34m()\u001b[0m\n",
      "\u001b[0;32mh5py/h5f.pyx\u001b[0m in \u001b[0;36mh5py.h5f.open\u001b[0;34m()\u001b[0m\n",
      "\u001b[0;31mOSError\u001b[0m: Unable to open file (file signature not found)"
     ]
    }
   ],
   "source": [
    "import os\n",
    "import sys\n",
    "import logging\n",
    "\n",
    "os.environ['TF_CPP_MIN_LOG_LEVEL'] = '3'\n",
    "\n",
    "# Keras outputs warnings using `print` to stderr so let's direct that to devnull temporarily\n",
    "stderr = sys.stderr\n",
    "sys.stderr = open(os.devnull, 'w')\n",
    "\n",
    "# Importing necessary libraries\n",
    "from ipywidgets import VBox, HBox\n",
    "import ipywidgets as widgets\n",
    "from IPython.display import clear_output, HTML, Javascript\n",
    "from PIL import Image\n",
    "from pathlib import Path\n",
    "from io import BytesIO\n",
    "import json\n",
    "import os\n",
    "import requests as requests\n",
    "from deepface import DeepFace\n",
    "from deepface.extendedmodels import  Gender\n",
    "import shutil \n",
    "import csv\n",
    "import pandas as pd\n",
    "import pathlib\n",
    "from tqdm import tnrange\n",
    "# import warnings\n",
    "# warnings.filterwarnings('ignore') #hide warnings\n",
    "\n",
    "import logging\n",
    "logger = logging.getLogger()\n",
    "logger.setLevel(logging.CRITICAL) #hide info messages\n",
    "\n",
    "%reload_ext autoreload\n",
    "%autoreload 2\n",
    "display(Javascript('IPython.notebook.execute_cells_below()'))\n",
    "\n",
    "# Load the gender model weights\n",
    "home = str(Path.home())\n",
    "source = '../DeepFace/gender_model_weights.h5'\n",
    "destination = home+'/.deepface/weights/gender_model_weights.h5'\n",
    "if not pathlib.Path(destination).exists():\n",
    "    if not pathlib.Path(home+'/.deepface/weights/').exists():\n",
    "        os.mkdir(home + \"/.deepface/\")\n",
    "        os.mkdir(home + \"/.deepface/weights/\")\n",
    "    dest = shutil.copyfile(source, destination)\n",
    "\n",
    "# Initiate a gender model\n",
    "models = {}\n",
    "models[\"gender\"] = Gender.loadModel()"
   ]
  },
  {
   "cell_type": "code",
   "execution_count": null,
   "metadata": {},
   "outputs": [],
   "source": [
    "HTML('''<script>\n",
    "code_show=true;\n",
    "function code_toggle() {\n",
    " if (code_show){\n",
    " $('div.input').hide();\n",
    " } else {\n",
    " $('div.input').show();\n",
    " }\n",
    " code_show = !code_show\n",
    "}\n",
    "$( document ).ready(code_toggle);\n",
    "</script>\n",
    "The raw code for this IPython notebook is by default hidden for easier reading.\n",
    "To toggle on/off the raw code, click <a href=\"javascript:code_toggle()\">here</a>.''')"
   ]
  },
  {
   "cell_type": "code",
   "execution_count": null,
   "metadata": {},
   "outputs": [],
   "source": [
    "# running deepface\n",
    "def deepface(filename):\n",
    "    deepface_pred = DeepFace.analyze(f\"images/{filename}\", models=models, actions=['gender'], enforce_detection=True)\n",
    "    if deepface_pred['gender'] == 'Woman':\n",
    "            gender = 'Female'\n",
    "    if deepface_pred['gender'] == 'Man':\n",
    "            gender = 'Male'\n",
    "    return gender"
   ]
  },
  {
   "cell_type": "markdown",
   "metadata": {},
   "source": [
    "Please upload images from your computer all at once."
   ]
  },
  {
   "cell_type": "code",
   "execution_count": null,
   "metadata": {},
   "outputs": [],
   "source": [
    "# Set up layout for upload widgets and update the uploader counter\n",
    "def on_upload_change(b):\n",
    "    upload._counter = len(list(upload.value.keys()))\n",
    "        \n",
    "def initialize_widgets():\n",
    "    global upload, layout\n",
    "    upload = widgets.FileUpload(\n",
    "        accept='image/*',\n",
    "        multiple=True\n",
    "    )\n",
    "    layout = VBox([upload, submit])\n",
    "    display(layout)\n",
    "    upload.observe(on_upload_change, names='_counter')\n",
    "\n",
    "global clear, submit, submitted\n",
    "submitted = False\n",
    "submit = widgets.Button(description=\"Submit\")\n",
    "clear = widgets.Button(description=\"Clear\")\n",
    "initialize_widgets()\n",
    "\n",
    "# Clear the output and delete the files\n",
    "\n",
    "\n",
    "def on_clear_clicked(b):\n",
    "    global submitted\n",
    "    clear_output()\n",
    "    initialize_widgets()\n",
    "    for filename in os.listdir('./images/'):\n",
    "        if filename.endswith(\".csv\"):\n",
    "            os.remove(filename)\n",
    "    try:\n",
    "        shutil.rmtree('./images/')\n",
    "    except:\n",
    "        pass\n",
    "    submitted = False\n",
    "\n",
    "# Resize and convert images for M3. Save the file (is deleted afterwards)\n",
    "\n",
    "\n",
    "def preprocess_and_save(content, filename):\n",
    "    stream = BytesIO(content)\n",
    "    image = Image.open(stream).convert(\"RGB\")\n",
    "    stream.close()\n",
    "    image.save(f\"images/{filename}\")\n",
    "\n",
    "# Submitting an image either as fileupload or from url\n",
    "\n",
    "\n",
    "def on_submit_clicked(b):\n",
    "    global submitted, content\n",
    "    if not upload.value:   # no input is given\n",
    "        display(HTML('No image has been uploaded'))\n",
    "        return False\n",
    "    display(HTML('<b>Please be patient, don\\'t restart the kernel or refresh the page. The model may take some time to predict the gender.\\n \\n</b>'))\n",
    "    file_list = list(upload.value.keys())\n",
    "    if len(file_list) > 200:\n",
    "        file_list = file_list[:200]\n",
    "        display(HTML('The model will return the predictions only for the first 200 images.\\n'))\n",
    "    Path(\"images/\").mkdir(parents=True, exist_ok=True)\n",
    "    with open('output.csv', 'w', newline='') as output:   # output file is created\n",
    "        wr = csv.writer(output, quoting=csv.QUOTE_ALL)\n",
    "        wr.writerow(['Filename', 'Gender'])\n",
    "        for index in tnrange(len(file_list), desc =\"Text You Want\"):\n",
    "            content = upload.value[file_list[index]]['content']   # extracting the bytes for images\n",
    "            preprocess_and_save(content, file_list[index])\n",
    "            try:\n",
    "                pred_gender = deepface(file_list[index])\n",
    "                wr = csv.writer(output, quoting=csv.QUOTE_ALL)\n",
    "                wr.writerow([file_list[index], pred_gender])\n",
    "            except:\n",
    "                wr = csv.writer(output, quoting=csv.QUOTE_ALL)\n",
    "                wr.writerow([file_list[index], 'NaN'])    # if there is an error in returning gender , write undefined\n",
    "\n",
    "    if submitted:   # cleaning the previous results\n",
    "        clear_output()\n",
    "        initialize_widgets()\n",
    "    submitted = True\n",
    "    output_df = pd.read_csv(\"output.csv\")\n",
    "    display(HTML(\"The results are presented in the table below. NaN values indicate that no faces have been detected on a picture.\"))\n",
    "    display(output_df, clear)\n",
    "\n",
    "submit.on_click(on_submit_clicked)\n",
    "clear.on_click(on_clear_clicked)"
   ]
  },
  {
   "cell_type": "code",
   "execution_count": null,
   "metadata": {},
   "outputs": [],
   "source": [
    "text = HTML('<p>The results are saved in the <a href=\"output.csv\" target=\"_blank\">csv file</a> and the folder with photos is <a href=\"images\" target=\"_blank\">here</a> (in case you did not press on \"Clear\" yet, which deletes the stored data). </p>')\n",
    "display(text)"
   ]
  },
  {
   "cell_type": "code",
   "execution_count": null,
   "metadata": {},
   "outputs": [],
   "source": []
  }
 ],
 "metadata": {
  "kernelspec": {
   "display_name": "Python 3",
   "language": "python",
   "name": "python3"
  },
  "language_info": {
   "codemirror_mode": {
    "name": "ipython",
    "version": 3
   },
   "file_extension": ".py",
   "mimetype": "text/x-python",
   "name": "python",
   "nbconvert_exporter": "python",
   "pygments_lexer": "ipython3"
  }
 },
 "nbformat": 4,
 "nbformat_minor": 2
}
