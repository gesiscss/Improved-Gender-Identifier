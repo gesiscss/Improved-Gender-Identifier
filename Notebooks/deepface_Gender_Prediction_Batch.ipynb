{
 "cells": [
  {
   "cell_type": "code",
   "execution_count": 26,
   "metadata": {},
   "outputs": [],
   "source": [
    "# Importing necessary libraries\n",
    "from ipywidgets import VBox, HBox\n",
    "import ipywidgets as widgets\n",
    "from IPython.display import clear_output\n",
    "from PIL import Image\n",
    "import sys\n",
    "from IPython.display import HTML\n",
    "from pathlib import Path\n",
    "from io import BytesIO\n",
    "import json\n",
    "import os\n",
    "import requests as requests\n",
    "from IPython.display import HTML\n",
    "from deepface import DeepFace\n",
    "from deepface.extendedmodels import  Gender\n",
    "import os\n",
    "import pandas as pd\n",
    "from sklearn.metrics import classification_report, confusion_matrix\n",
    "from zipfile import ZipFile\n",
    "import tarfile\n",
    "from urllib.request import urlopen\n",
    "from scipy.io import loadmat\n",
    "import csv\n",
    "import sys\n",
    "import re\n",
    "\n",
    "\n",
    "## Load the gender model from deepface\n",
    "models = {}\n",
    "models[\"gender\"] = Gender.loadModel()"
   ]
  },
  {
   "cell_type": "code",
   "execution_count": 27,
   "metadata": {},
   "outputs": [
    {
     "data": {
      "text/html": [
       "<script>\n",
       "code_show=true; \n",
       "function code_toggle() {\n",
       " if (code_show){\n",
       " $('div.input').hide();\n",
       " } else {\n",
       " $('div.input').show();\n",
       " }\n",
       " code_show = !code_show\n",
       "} \n",
       "$( document ).ready(code_toggle);\n",
       "</script>\n",
       "The raw code for this IPython notebook is by default hidden for easier reading.\n",
       "To toggle on/off the raw code, click <a href=\"javascript:code_toggle()\">here</a>."
      ],
      "text/plain": [
       "<IPython.core.display.HTML object>"
      ]
     },
     "execution_count": 27,
     "metadata": {},
     "output_type": "execute_result"
    }
   ],
   "source": [
    "HTML('''<script>\n",
    "code_show=true; \n",
    "function code_toggle() {\n",
    " if (code_show){\n",
    " $('div.input').hide();\n",
    " } else {\n",
    " $('div.input').show();\n",
    " }\n",
    " code_show = !code_show\n",
    "} \n",
    "$( document ).ready(code_toggle);\n",
    "</script>\n",
    "The raw code for this IPython notebook is by default hidden for easier reading.\n",
    "To toggle on/off the raw code, click <a href=\"javascript:code_toggle()\">here</a>.''')"
   ]
  },
  {
   "cell_type": "code",
   "execution_count": 28,
   "metadata": {},
   "outputs": [],
   "source": [
    "#running deepface\n",
    "def deepface(filename):\n",
    "    deepface_pred = DeepFace.analyze(f\"images/{filename}\", actions=['gender'] ,models=models,enforce_detection= True)\n",
    "    return deepface_pred"
   ]
  },
  {
   "cell_type": "code",
   "execution_count": 29,
   "metadata": {},
   "outputs": [
    {
     "data": {
      "application/vnd.jupyter.widget-view+json": {
       "model_id": "a0a115073a694aeea12f4447e388b3e2",
       "version_major": 2,
       "version_minor": 0
      },
      "text/plain": [
       "VBox(children=(FileUpload(value={}, accept='image/*', description='Upload', multiple=True), Button(description…"
      ]
     },
     "metadata": {},
     "output_type": "display_data"
    },
    {
     "name": "stderr",
     "output_type": "stream",
     "text": [
      "Analyzing:   0%|          | 0/1 [00:00<?, ?it/s]\n",
      "Finding actions:   0%|          | 0/1 [00:00<?, ?it/s]\u001b[A\n",
      "Action: gender:   0%|          | 0/1 [00:00<?, ?it/s] \u001b[A"
     ]
    },
    {
     "name": "stdout",
     "output_type": "stream",
     "text": [
      "Actions to do:  ['gender']\n",
      "already built gender model is passed\n"
     ]
    },
    {
     "name": "stderr",
     "output_type": "stream",
     "text": [
      "\n",
      "Action: gender: 100%|██████████| 1/1 [00:00<00:00,  1.08it/s]\u001b[A\n",
      "Analyzing:   0%|          | 0/1 [00:00<?, ?it/s]\n",
      "Analyzing:   0%|          | 0/1 [00:00<?, ?it/s]\n",
      "Finding actions:   0%|          | 0/1 [00:00<?, ?it/s]\u001b[A\n",
      "Action: gender:   0%|          | 0/1 [00:00<?, ?it/s] \u001b[A\n",
      "Analyzing:   0%|          | 0/1 [00:00<?, ?it/s]\n",
      "Analyzing:   0%|          | 0/1 [00:00<?, ?it/s]\n",
      "Finding actions:   0%|          | 0/1 [00:00<?, ?it/s]\u001b[A\n",
      "Action: gender:   0%|          | 0/1 [00:00<?, ?it/s] \u001b[A"
     ]
    },
    {
     "name": "stdout",
     "output_type": "stream",
     "text": [
      "Actions to do:  ['gender']\n",
      "already built gender model is passed\n",
      "Actions to do:  ['gender']\n",
      "already built gender model is passed\n"
     ]
    },
    {
     "name": "stderr",
     "output_type": "stream",
     "text": [
      "\n",
      "Action: gender: 100%|██████████| 1/1 [00:00<00:00,  2.74it/s]\u001b[A\n",
      "Analyzing:   0%|          | 0/1 [00:00<?, ?it/s]\n",
      "Analyzing:   0%|          | 0/1 [00:00<?, ?it/s]\n",
      "Finding actions:   0%|          | 0/1 [00:00<?, ?it/s]\u001b[A\n",
      "Action: gender:   0%|          | 0/1 [00:00<?, ?it/s] \u001b[A"
     ]
    },
    {
     "name": "stdout",
     "output_type": "stream",
     "text": [
      "Actions to do:  ['gender']\n",
      "already built gender model is passed\n"
     ]
    },
    {
     "name": "stderr",
     "output_type": "stream",
     "text": [
      "\n",
      "Action: gender: 100%|██████████| 1/1 [00:00<00:00,  3.00it/s]\u001b[A\n",
      "Analyzing:   0%|          | 0/1 [00:00<?, ?it/s]"
     ]
    },
    {
     "name": "stdout",
     "output_type": "stream",
     "text": [
      "The results are presented in the table below. NaN values indicate that no faces have been detected on a picture.\n"
     ]
    },
    {
     "name": "stderr",
     "output_type": "stream",
     "text": [
      "\n"
     ]
    },
    {
     "data": {
      "text/html": [
       "<div>\n",
       "<style scoped>\n",
       "    .dataframe tbody tr th:only-of-type {\n",
       "        vertical-align: middle;\n",
       "    }\n",
       "\n",
       "    .dataframe tbody tr th {\n",
       "        vertical-align: top;\n",
       "    }\n",
       "\n",
       "    .dataframe thead th {\n",
       "        text-align: right;\n",
       "    }\n",
       "</style>\n",
       "<table border=\"1\" class=\"dataframe\">\n",
       "  <thead>\n",
       "    <tr style=\"text-align: right;\">\n",
       "      <th></th>\n",
       "      <th>Filename</th>\n",
       "      <th>Gender</th>\n",
       "    </tr>\n",
       "  </thead>\n",
       "  <tbody>\n",
       "    <tr>\n",
       "      <th>0</th>\n",
       "      <td>Abdulrahman+M.+Al-Ahmari.jpg</td>\n",
       "      <td>Man</td>\n",
       "    </tr>\n",
       "    <tr>\n",
       "      <th>1</th>\n",
       "      <td>Abu+James+Sundufu.jpg</td>\n",
       "      <td>NaN</td>\n",
       "    </tr>\n",
       "    <tr>\n",
       "      <th>2</th>\n",
       "      <td>Acaio+Zuniga+Leite.jpg</td>\n",
       "      <td>Man</td>\n",
       "    </tr>\n",
       "    <tr>\n",
       "      <th>3</th>\n",
       "      <td>Adam+M.+Sonabend.jpg</td>\n",
       "      <td>Man</td>\n",
       "    </tr>\n",
       "  </tbody>\n",
       "</table>\n",
       "</div>"
      ],
      "text/plain": [
       "                       Filename Gender\n",
       "0  Abdulrahman+M.+Al-Ahmari.jpg    Man\n",
       "1         Abu+James+Sundufu.jpg    NaN\n",
       "2        Acaio+Zuniga+Leite.jpg    Man\n",
       "3          Adam+M.+Sonabend.jpg    Man"
      ]
     },
     "metadata": {},
     "output_type": "display_data"
    },
    {
     "data": {
      "application/vnd.jupyter.widget-view+json": {
       "model_id": "817e1103f76041889514950099549415",
       "version_major": 2,
       "version_minor": 0
      },
      "text/plain": [
       "Button(description='Clear', style=ButtonStyle())"
      ]
     },
     "metadata": {},
     "output_type": "display_data"
    }
   ],
   "source": [
    "'''Set up layout for upload widgets'''\n",
    "def initialize_widgets():\n",
    "    global upload, layout\n",
    "    upload = widgets.FileUpload(\n",
    "        accept='image/*', \n",
    "        multiple=True  \n",
    "    )\n",
    "    layout = VBox([upload, submit])\n",
    "    display(layout)\n",
    "    \n",
    "global clear, submit, submitted\n",
    "submitted = False\n",
    "submit = widgets.Button(description=\"Submit\")\n",
    "clear = widgets.Button(description=\"Clear\")\n",
    "initialize_widgets()\n",
    "\n",
    "''' Clear the output and delete the files'''\n",
    "def on_clear_clicked(b):\n",
    "    global submitted\n",
    "    clear_output()\n",
    "    initialize_widgets()\n",
    "    try:\n",
    "        shutil.rmtree('./images/')\n",
    "    except:\n",
    "        pass\n",
    "    for filename in os.listdir('./images/'):\n",
    "        if filename.endswith(\".csv\"):\n",
    "            os.remove(filename)\n",
    "    submitted = False\n",
    "\n",
    "'''Resize and convert images for M3. Save the file (is deleted afterwards)'''    \n",
    "def preprocess_and_save(content, filename):\n",
    "    stream = BytesIO(content)\n",
    "    image = Image.open(stream).convert(\"RGB\")\n",
    "    stream.close()\n",
    "    image.save(f\"images/{filename}\")\n",
    "\n",
    "'''Submitting an image either as fileupload or from url'''\n",
    "def on_submit_clicked(b):\n",
    "    global submitted, content\n",
    "    if not upload.value: #no input is given\n",
    "        print('No image has been uploaded')\n",
    "        return False\n",
    "    Path(\"images/\").mkdir(parents=True, exist_ok=True)\n",
    "    with open('output.csv', 'w', newline='') as output:  # output file is created\n",
    "        wr = csv.writer(output,quoting=csv.QUOTE_ALL)\n",
    "        wr.writerow(['Filename','Gender'])\n",
    "        for filename in upload.value.keys():  \n",
    "            content = upload.value[filename]['content'] #extracting the bytes for images\n",
    "            preprocess_and_save(content, filename)\n",
    "            try:\n",
    "                pred_gender=deepface(filename)\n",
    "                wr = csv.writer(output,quoting=csv.QUOTE_ALL)\n",
    "                wr.writerow([filename,pred_gender['gender']])\n",
    "            except:\n",
    "                wr = csv.writer(output,quoting=csv.QUOTE_ALL)\n",
    "                wr.writerow([filename,'NaN'])   #if there is an error in returning gender , write undefined\n",
    "            #print(\"Oops!\",sys.exc_info()[0],\"occured.\")\n",
    "    if submitted: #cleaning the previous results\n",
    "        clear_output()\n",
    "        initialize_widgets()\n",
    "    submitted = True\n",
    "    output_df = pd.read_csv(\"output.csv\")\n",
    "    print(\"The results are presented in the table below. NaN values indicate that no faces have been detected on a picture.\")\n",
    "    display(output_df, clear)\n",
    "\n",
    "submit.on_click(on_submit_clicked)\n",
    "clear.on_click(on_clear_clicked)\n"
   ]
  },
  {
   "cell_type": "code",
   "execution_count": 30,
   "metadata": {},
   "outputs": [
    {
     "data": {
      "text/html": [
       "<p>The results are saved in the <a href=\"output.csv\" target=\"_blank\">csv file</a> and the folder with photos is <a href=\"images\" target=\"_blank\">here</a> (in case you did not press on \"Clear\" yet, which deletes the stored data). </p>"
      ],
      "text/plain": [
       "<IPython.core.display.HTML object>"
      ]
     },
     "metadata": {},
     "output_type": "display_data"
    }
   ],
   "source": [
    "text = HTML('<p>The results are saved in the <a href=\"output.csv\" target=\"_blank\">csv file</a> and the folder with photos is <a href=\"images\" target=\"_blank\">here</a> (in case you did not press on \"Clear\" yet, which deletes the stored data). </p>')\n",
    "display(text)"
   ]
  }
 ],
 "metadata": {
  "kernelspec": {
   "display_name": "p36workshop",
   "language": "python",
   "name": "p36workshop"
  },
  "language_info": {
   "codemirror_mode": {
    "name": "ipython",
    "version": 3
   },
   "file_extension": ".py",
   "mimetype": "text/x-python",
   "name": "python",
   "nbconvert_exporter": "python",
   "pygments_lexer": "ipython3",
   "version": "3.6.10"
  }
 },
 "nbformat": 4,
 "nbformat_minor": 2
}
