{
 "cells": [
  {
   "cell_type": "markdown",
   "metadata": {},
   "source": [
    "This notebook is created at GESIS for general public to test <a href=\"https://github.com/serengil/deepface\">Deepface</a> on gender inference from images. It is a supplement to the [GESIS Gender Inference website](http://193.175.238.89/Gender_Inference/images.html). You can upload your own image or use a url. All data is deleted afterwards."
   ]
  },
  {
   "cell_type": "markdown",
   "metadata": {},
   "source": [
    "1. Run all cells by clicking \"Cell\" -> \"Run all\" <br/>\n",
    "2. Upload several photos from your computer by clicking \"Upload\" <br/>\n",
    "3. Press \"Submit\" to run the model on your data. The outcome will be displayed in the table with predicted gender and confidence. The results are also saved to the csv file <br/>\n",
    "4. Button \"Clear\" ensures no data is stored afterwards"
   ]
  },
  {
   "cell_type": "markdown",
   "metadata": {},
   "source": [
    "<b>Important</b>: After clicking \"Cell\" -> \"Run all\", If the buttons are not appearing please restart the kernal or refresh the page."
   ]
  },
  {
   "cell_type": "code",
   "execution_count": 1,
   "metadata": {},
   "outputs": [],
   "source": [
    "import os\n",
    "import sys\n",
    "import logging\n",
    "\n",
    "os.environ['TF_CPP_MIN_LOG_LEVEL'] = '3'\n",
    "\n",
    "# Keras outputs warnings using `print` to stderr so let's direct that to devnull temporarily\n",
    "stderr = sys.stderr\n",
    "sys.stderr = open(os.devnull, 'w')\n",
    "\n",
    "\n",
    "# Importing necessary libraries\n",
    "from ipywidgets import VBox, HBox\n",
    "import ipywidgets as widgets\n",
    "from IPython.display import clear_output\n",
    "from PIL import Image\n",
    "from IPython.display import HTML\n",
    "from pathlib import Path\n",
    "from io import BytesIO\n",
    "import json\n",
    "import os\n",
    "import requests as requests\n",
    "from IPython.display import HTML\n",
    "from deepface import DeepFace\n",
    "from deepface.extendedmodels import  Gender\n",
    "import shutil \n",
    "import csv\n",
    "import pandas as pd\n",
    "import pathlib\n",
    "import shutil\n",
    "from tqdm import tnrange\n",
    "\n",
    "# Load the gender model weights\n",
    "home = str(Path.home())\n",
    "source = '../DeepFace/gender_model_weights.h5'\n",
    "destination = home+'/.deepface/weights/gender_model_weights.h5'\n",
    "if not pathlib.Path(destination).exists():\n",
    "    if not pathlib.Path(home+'/.deepface/weights/').exists():\n",
    "        os.mkdir(home + \"/.deepface/\")\n",
    "        os.mkdir(home + \"/.deepface/weights/\")\n",
    "    dest = shutil.copyfile(source, destination)\n",
    "\n",
    "# Initiate a gender model\n",
    "models = {}\n",
    "models[\"gender\"] = Gender.loadModel()\n",
    "clear_output()"
   ]
  },
  {
   "cell_type": "code",
   "execution_count": 2,
   "metadata": {},
   "outputs": [
    {
     "data": {
      "text/html": [
       "<script>\n",
       "code_show=true;\n",
       "function code_toggle() {\n",
       " if (code_show){\n",
       " $('div.input').hide();\n",
       " } else {\n",
       " $('div.input').show();\n",
       " }\n",
       " code_show = !code_show\n",
       "}\n",
       "$( document ).ready(code_toggle);\n",
       "</script>\n",
       "The raw code for this IPython notebook is by default hidden for easier reading.\n",
       "To toggle on/off the raw code, click <a href=\"javascript:code_toggle()\">here</a>."
      ],
      "text/plain": [
       "<IPython.core.display.HTML object>"
      ]
     },
     "execution_count": 2,
     "metadata": {},
     "output_type": "execute_result"
    }
   ],
   "source": [
    "HTML('''<script>\n",
    "code_show=true;\n",
    "function code_toggle() {\n",
    " if (code_show){\n",
    " $('div.input').hide();\n",
    " } else {\n",
    " $('div.input').show();\n",
    " }\n",
    " code_show = !code_show\n",
    "}\n",
    "$( document ).ready(code_toggle);\n",
    "</script>\n",
    "The raw code for this IPython notebook is by default hidden for easier reading.\n",
    "To toggle on/off the raw code, click <a href=\"javascript:code_toggle()\">here</a>.''')"
   ]
  },
  {
   "cell_type": "code",
   "execution_count": 3,
   "metadata": {},
   "outputs": [],
   "source": [
    "# running deepface\n",
    "def deepface(filename):\n",
    "    deepface_pred = DeepFace.analyze(f\"images/{filename}\", actions=['gender'], enforce_detection=True)\n",
    "    if deepface_pred['gender'] == 'Woman':\n",
    "            gender = 'Female'\n",
    "    if deepface_pred['gender'] == 'Man':\n",
    "            gender = 'Male'\n",
    "    return gender"
   ]
  },
  {
   "cell_type": "markdown",
   "metadata": {},
   "source": [
    "Please upload images from your computer all at once."
   ]
  },
  {
   "cell_type": "code",
   "execution_count": 4,
   "metadata": {},
   "outputs": [
    {
     "data": {
      "application/vnd.jupyter.widget-view+json": {
       "model_id": "8a07856580644c23833c6da69fd3b72a",
       "version_major": 2,
       "version_minor": 0
      },
      "text/plain": [
       "VBox(children=(FileUpload(value={}, accept='image/*', description='Upload', multiple=True), Button(description…"
      ]
     },
     "metadata": {},
     "output_type": "display_data"
    }
   ],
   "source": [
    "# Set up layout for upload widgets\n",
    "\n",
    "\n",
    "def initialize_widgets():\n",
    "    global upload, layout\n",
    "    upload = widgets.FileUpload(\n",
    "        accept='image/*',\n",
    "        multiple=True\n",
    "    )\n",
    "    layout = VBox([upload, submit])\n",
    "    display(layout)\n",
    "\n",
    "global clear, submit, submitted\n",
    "submitted = False\n",
    "submit = widgets.Button(description=\"Submit\")\n",
    "clear = widgets.Button(description=\"Clear\")\n",
    "initialize_widgets()\n",
    "\n",
    "# Clear the output and delete the files\n",
    "\n",
    "\n",
    "def on_clear_clicked(b):\n",
    "    global submitted\n",
    "    clear_output()\n",
    "    initialize_widgets()\n",
    "    for filename in os.listdir('./images/'):\n",
    "        if filename.endswith(\".csv\"):\n",
    "            os.remove(filename)\n",
    "    try:\n",
    "        shutil.rmtree('./images/')\n",
    "    except:\n",
    "        pass\n",
    "    submitted = False\n",
    "\n",
    "# Resize and convert images for M3. Save the file (is deleted afterwards)\n",
    "\n",
    "\n",
    "def preprocess_and_save(content, filename):\n",
    "    stream = BytesIO(content)\n",
    "    image = Image.open(stream).convert(\"RGB\")\n",
    "    stream.close()\n",
    "    image.save(f\"images/{filename}\")\n",
    "\n",
    "# Submitting an image either as fileupload or from url\n",
    "\n",
    "\n",
    "def on_submit_clicked(b):\n",
    "    global submitted, content\n",
    "    if not upload.value:   # no input is given\n",
    "        print('No image has been uploaded')\n",
    "        return False\n",
    "    print('Please be patient, don\\'t restart the kernel or refresh the page. The model may take some time to predict the gender.\\n \\n')\n",
    "    file_list = list(upload.value.keys())\n",
    "    if len(file_list) > 200:\n",
    "        file_list = file_list[:200]\n",
    "        print('The model will return the predictions only for the first 200 images.\\n')\n",
    "    Path(\"images/\").mkdir(parents=True, exist_ok=True)\n",
    "    with open('output.csv', 'w', newline='') as output:   # output file is created\n",
    "        wr = csv.writer(output, quoting=csv.QUOTE_ALL)\n",
    "        wr.writerow(['Filename', 'Gender'])\n",
    "        for index in tnrange(len(file_list), desc =\"Progress\"):\n",
    "            content = upload.value[file_list[index]]['content']   # extracting the bytes for images\n",
    "            preprocess_and_save(content, file_list[index])\n",
    "            try:\n",
    "                pred_gender = deepface(file_list[index])\n",
    "                wr = csv.writer(output, quoting=csv.QUOTE_ALL)\n",
    "                wr.writerow([file_list[index], pred_gender])\n",
    "            except:\n",
    "                wr = csv.writer(output, quoting=csv.QUOTE_ALL)\n",
    "                wr.writerow([file_list[index], 'NaN'])    # if there is an error in returning gender , write undefined\n",
    "\n",
    "    if submitted:   # cleaning the previous results\n",
    "        clear_output()\n",
    "        initialize_widgets()\n",
    "    submitted = True\n",
    "    output_df = pd.read_csv(\"output.csv\")\n",
    "    print(\"The results are presented in the table below. NaN values indicate that no faces have been detected on a picture.\")\n",
    "    display(output_df, clear)\n",
    "\n",
    "submit.on_click(on_submit_clicked)\n",
    "clear.on_click(on_clear_clicked)"
   ]
  },
  {
   "cell_type": "code",
   "execution_count": 5,
   "metadata": {},
   "outputs": [
    {
     "data": {
      "text/html": [
       "<p>The results are saved in the <a href=\"output.csv\" target=\"_blank\">csv file</a> and the folder with photos is <a href=\"images\" target=\"_blank\">here</a> (in case you did not press on \"Clear\" yet, which deletes the stored data). </p>"
      ],
      "text/plain": [
       "<IPython.core.display.HTML object>"
      ]
     },
     "metadata": {},
     "output_type": "display_data"
    }
   ],
   "source": [
    "text = HTML('<p>The results are saved in the <a href=\"output.csv\" target=\"_blank\">csv file</a> and the folder with photos is <a href=\"images\" target=\"_blank\">here</a> (in case you did not press on \"Clear\" yet, which deletes the stored data). </p>')\n",
    "display(text)"
   ]
  }
 ],
 "metadata": {
  "kernelspec": {
   "display_name": "Python 3",
   "language": "python",
   "name": "python3"
  },
  "language_info": {
   "codemirror_mode": {
    "name": "ipython",
    "version": 3
   },
   "file_extension": ".py",
   "mimetype": "text/x-python",
   "name": "python",
   "nbconvert_exporter": "python",
   "pygments_lexer": "ipython3",
   "version": "3.7.4"
  }
 },
 "nbformat": 4,
 "nbformat_minor": 2
}
