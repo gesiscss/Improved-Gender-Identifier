{
 "cells": [
  {
   "cell_type": "code",
   "execution_count": 16,
   "metadata": {},
   "outputs": [],
   "source": [
    "# Importing necessary libraries\n",
    "from ipywidgets import VBox, HBox\n",
    "import ipywidgets as widgets\n",
    "from IPython.display import clear_output\n",
    "from PIL import Image\n",
    "from IPython.display import HTML\n",
    "from pathlib import Path\n",
    "import sys\n",
    "from io import BytesIO\n",
    "import json\n",
    "import os\n",
    "import requests as requests\n",
    "from IPython.display import HTML\n",
    "from deepface import DeepFace\n",
    "from deepface.extendedmodels import  Gender\n",
    "import os\n",
    "import pandas as pd\n",
    "from sklearn.metrics import classification_report, confusion_matrix\n",
    "from zipfile import ZipFile\n",
    "import tarfile\n",
    "from urllib.request import urlopen\n",
    "from scipy.io import loadmat\n",
    "import csv\n",
    "import sys\n",
    "import re\n",
    "\n",
    "\n",
    "## Load the gender model from deepface\n",
    "models = {}\n",
    "models[\"gender\"] = Gender.loadModel()"
   ]
  },
  {
   "cell_type": "code",
   "execution_count": 17,
   "metadata": {},
   "outputs": [
    {
     "data": {
      "text/html": [
       "<script>\n",
       "code_show=true; \n",
       "function code_toggle() {\n",
       " if (code_show){\n",
       " $('div.input').hide();\n",
       " } else {\n",
       " $('div.input').show();\n",
       " }\n",
       " code_show = !code_show\n",
       "} \n",
       "$( document ).ready(code_toggle);\n",
       "</script>\n",
       "The raw code for this IPython notebook is by default hidden for easier reading.\n",
       "To toggle on/off the raw code, click <a href=\"javascript:code_toggle()\">here</a>."
      ],
      "text/plain": [
       "<IPython.core.display.HTML object>"
      ]
     },
     "execution_count": 17,
     "metadata": {},
     "output_type": "execute_result"
    }
   ],
   "source": [
    "HTML('''<script>\n",
    "code_show=true; \n",
    "function code_toggle() {\n",
    " if (code_show){\n",
    " $('div.input').hide();\n",
    " } else {\n",
    " $('div.input').show();\n",
    " }\n",
    " code_show = !code_show\n",
    "} \n",
    "$( document ).ready(code_toggle);\n",
    "</script>\n",
    "The raw code for this IPython notebook is by default hidden for easier reading.\n",
    "To toggle on/off the raw code, click <a href=\"javascript:code_toggle()\">here</a>.''')"
   ]
  },
  {
   "cell_type": "code",
   "execution_count": 18,
   "metadata": {},
   "outputs": [],
   "source": [
    "#running deepface\n",
    "def deepface():\n",
    "    try:\n",
    "        deepface_pred = DeepFace.analyze(filename, actions=['gender'], models=models,enforce_detection= True)\n",
    "        gender= deepface_pred['gender']\n",
    "        print(\"Predicted gender for your input is: \" + gender)\n",
    "    except:\n",
    "         print(\"Ooops! No face has been detected\")"
   ]
  },
  {
   "cell_type": "code",
   "execution_count": 19,
   "metadata": {},
   "outputs": [
    {
     "name": "stdout",
     "output_type": "stream",
     "text": [
      "Please either use upload field to select a file from your computer or provide a url to a web image. \n"
     ]
    },
    {
     "data": {
      "application/vnd.jupyter.widget-view+json": {
       "model_id": "d1e1c25c5d704e318a8ae699b1b0dd5d",
       "version_major": 2,
       "version_minor": 0
      },
      "text/plain": [
       "VBox(children=(HBox(children=(FileUpload(value={}, accept='image/*', description='Upload'), Text(value='', des…"
      ]
     },
     "metadata": {},
     "output_type": "display_data"
    },
    {
     "name": "stdout",
     "output_type": "stream",
     "text": [
      "An image you submitted:\n"
     ]
    },
    {
     "data": {
      "application/vnd.jupyter.widget-view+json": {
       "model_id": "270f98776aae4c66b75a1717a657fb2f",
       "version_major": 2,
       "version_minor": 0
      },
      "text/plain": [
       "Image(value=b'\\xff\\xd8\\xff\\xe0\\x00\\x10JFIF\\x00\\x01\\x01\\x00\\x00\\x01\\x00\\x01\\x00\\x00\\xff\\xdb\\x00\\x84\\x00\\t\\x06\\x…"
      ]
     },
     "metadata": {},
     "output_type": "display_data"
    },
    {
     "name": "stderr",
     "output_type": "stream",
     "text": [
      "Analyzing:   0%|          | 0/1 [00:00<?, ?it/s]\n",
      "Finding actions:   0%|          | 0/1 [00:00<?, ?it/s]\u001b[A\n",
      "Action: gender:   0%|          | 0/1 [00:00<?, ?it/s] \u001b[A\n",
      "Analyzing:   0%|          | 0/1 [00:00<?, ?it/s]"
     ]
    },
    {
     "name": "stdout",
     "output_type": "stream",
     "text": [
      "Actions to do:  ['gender']\n",
      "already built gender model is passed\n",
      "Ooops! No face has been detected\n"
     ]
    },
    {
     "name": "stderr",
     "output_type": "stream",
     "text": [
      "\n"
     ]
    },
    {
     "data": {
      "application/vnd.jupyter.widget-view+json": {
       "model_id": "cd0f955987b142b082ae7336b47fb641",
       "version_major": 2,
       "version_minor": 0
      },
      "text/plain": [
       "Button(description='Clear', style=ButtonStyle())"
      ]
     },
     "metadata": {},
     "output_type": "display_data"
    }
   ],
   "source": [
    "'''Set up layout for upload widgets'''\n",
    "def initialize_widgets():\n",
    "    global upload, link, name, layout\n",
    "    upload = widgets.FileUpload(\n",
    "        accept='image/*', \n",
    "        multiple=False  \n",
    "    )\n",
    "    link = widgets.Text(\n",
    "        placeholder='url to an image file',\n",
    "        description='Link:',\n",
    "        disabled=False\n",
    "    )\n",
    " \n",
    "    input_box = HBox([upload, link])\n",
    "    layout = VBox([input_box, submit])\n",
    "    display(layout)\n",
    "    \n",
    "global clear, submit, submitted \n",
    "submitted = False\n",
    "print('Please either use upload field to select a file from your computer or provide a url to a web image. ')\n",
    "submit = widgets.Button(description=\"Submit\")\n",
    "clear = widgets.Button(description=\"Clear\")\n",
    "initialize_widgets()\n",
    "\n",
    "''' Clear the output and delete the files'''\n",
    "def on_clear_clicked(b):\n",
    "    clear_output()\n",
    "    initialize_widgets()\n",
    "    for filename in os.listdir('./'):\n",
    "        if filename.endswith(\".jpg\") or filename.endswith(\".csv\"):\n",
    "            os.remove(filename)\n",
    "    submitted = False\n",
    "\n",
    "'''convert images. Save the file (is deleted afterwards)'''    \n",
    "def preprocess_and_save(content):\n",
    "    global filename\n",
    "    stream = BytesIO(content)\n",
    "    image = Image.open(stream).convert(\"RGB\")\n",
    "    stream.close()\n",
    "    filename= \"testfile.jpg\"\n",
    "    image.save(filename)\n",
    "\n",
    "'''Submitting an image either as fileupload or from url'''\n",
    "def on_submit_clicked(b):\n",
    "    global submitted\n",
    "    global content\n",
    "    if upload.value and link.value: #both inputs are given\n",
    "        print('Please choose only one method for input')\n",
    "        return False\n",
    "    elif upload.value: #file is uploaded\n",
    "        uploaded_filename = next(iter(upload.value))\n",
    "        content = upload.value[uploaded_filename]['content']\n",
    "    elif link.value: #url is fiven\n",
    "        content = requests.get(link.value).content\n",
    "    else: #no input is given\n",
    "        print('No image has been uploaded')\n",
    "        return False\n",
    "    preprocess_and_save(content)\n",
    "    if submitted: #cleaning the previous results\n",
    "        clear_output()\n",
    "        initialize_widgets()\n",
    "    print('An image you submitted:')\n",
    "    display(widgets.Image(value=content, width=200))\n",
    "    deepface()\n",
    "    display(clear)\n",
    "    submitted = True\n",
    "\n",
    "submit.on_click(on_submit_clicked)\n",
    "clear.on_click(on_clear_clicked)\n",
    "\n"
   ]
  },
  {
   "cell_type": "code",
   "execution_count": 20,
   "metadata": {},
   "outputs": [
    {
     "data": {
      "text/html": [
       "<p>This was a demo version of deepface on one image. You can go to the <a href=\"deepface_Gender_Prediction_Batch.ipynb\" target=\"_blank\">next notebook</a> to apply the model on a batch of images</p>"
      ],
      "text/plain": [
       "<IPython.core.display.HTML object>"
      ]
     },
     "metadata": {},
     "output_type": "display_data"
    }
   ],
   "source": [
    "clear_output()\n",
    "display(HTML('<p>This was a demo version of deepface on one image. You can go to the <a href=\"deepface_Gender_Prediction_Batch.ipynb\" target=\"_blank\">next notebook</a> to apply the model on a batch of images</p>'))"
   ]
  },
  {
   "cell_type": "code",
   "execution_count": null,
   "metadata": {},
   "outputs": [],
   "source": []
  }
 ],
 "metadata": {
  "kernelspec": {
   "display_name": "p36workshop",
   "language": "python",
   "name": "p36workshop"
  },
  "language_info": {
   "codemirror_mode": {
    "name": "ipython",
    "version": 3
   },
   "file_extension": ".py",
   "mimetype": "text/x-python",
   "name": "python",
   "nbconvert_exporter": "python",
   "pygments_lexer": "ipython3",
   "version": "3.6.10"
  }
 },
 "nbformat": 4,
 "nbformat_minor": 2
}
