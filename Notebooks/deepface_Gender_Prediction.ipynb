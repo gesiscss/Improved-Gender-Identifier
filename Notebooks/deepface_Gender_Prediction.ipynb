{
 "cells": [
  {
   "cell_type": "markdown",
   "metadata": {},
   "source": [
    "This GESIS notebook demonstrates the functionality of [Deepface model](https://github.com/serengil/deepface) to infer the gender of persons using images. It is a supplement to the [GESIS Gender Inference website](http://193.175.238.89/Gender_Inference/images.html), which includes more details, guidelines and limitations that you should consider before using this notebook."
   ]
  },
  {
   "cell_type": "markdown",
   "metadata": {},
   "source": [
    "Follow these steps to use the model for your own image or an image url. Upon exiting the notebook, all data will be deleted.<br/>\n",
    "1. If notebook is not run on the launch, please run all cells by clicking \"Cell\" -> \"Run all\" <br/>\n",
    "2. Upload a photo from your computer <b>OR</b> type a url to an image file on the Web. These options are interchangeable.\n",
    "3. Click \"Predict gender\" to run Deepface on your input data. <br/>\n",
    "4. Button \"Clear\" ensures no data is stored afterwards."
   ]
  },
  {
   "cell_type": "markdown",
   "metadata": {},
   "source": [
    "<b>Important</b>: After clicking \"Cell\" -> \"Run all\", If the buttons are not appearing please restart the kernal or refresh the page."
   ]
  },
  {
   "cell_type": "code",
   "execution_count": null,
   "metadata": {
    "init_cell": true
   },
   "outputs": [
    {
     "data": {
      "application/javascript": [
       "IPython.notebook.execute_cells_below()"
      ],
      "text/plain": [
       "<IPython.core.display.Javascript object>"
      ]
     },
     "metadata": {},
     "output_type": "display_data"
    },
    {
     "ename": "OSError",
     "evalue": "Unable to open file (file signature not found)",
     "output_type": "error",
     "traceback": [
      "\u001b[0;31m---------------------------------------------------------------------------\u001b[0m",
      "\u001b[0;31mOSError\u001b[0m                                   Traceback (most recent call last)",
      "\u001b[0;32m<ipython-input-10-6de77433ac33>\u001b[0m in \u001b[0;36m<module>\u001b[0;34m\u001b[0m\n\u001b[1;32m     38\u001b[0m \u001b[0;31m# Initiate a gender model\u001b[0m\u001b[0;34m\u001b[0m\u001b[0;34m\u001b[0m\u001b[0m\n\u001b[1;32m     39\u001b[0m \u001b[0mmodels\u001b[0m \u001b[0;34m=\u001b[0m \u001b[0;34m{\u001b[0m\u001b[0;34m}\u001b[0m\u001b[0;34m\u001b[0m\u001b[0m\n\u001b[0;32m---> 40\u001b[0;31m \u001b[0mmodels\u001b[0m\u001b[0;34m[\u001b[0m\u001b[0;34m\"gender\"\u001b[0m\u001b[0;34m]\u001b[0m \u001b[0;34m=\u001b[0m \u001b[0mGender\u001b[0m\u001b[0;34m.\u001b[0m\u001b[0mloadModel\u001b[0m\u001b[0;34m(\u001b[0m\u001b[0;34m)\u001b[0m\u001b[0;34m\u001b[0m\u001b[0m\n\u001b[0m",
      "\u001b[0;32m~/Improved-Gender-Identifier/Notebooks/deepface/extendedmodels/Gender.py\u001b[0m in \u001b[0;36mloadModel\u001b[0;34m()\u001b[0m\n\u001b[1;32m     38\u001b[0m                 \u001b[0mgdown\u001b[0m\u001b[0;34m.\u001b[0m\u001b[0mdownload\u001b[0m\u001b[0;34m(\u001b[0m\u001b[0murl\u001b[0m\u001b[0;34m,\u001b[0m \u001b[0moutput\u001b[0m\u001b[0;34m,\u001b[0m \u001b[0mquiet\u001b[0m\u001b[0;34m=\u001b[0m\u001b[0;32mFalse\u001b[0m\u001b[0;34m)\u001b[0m\u001b[0;34m\u001b[0m\u001b[0m\n\u001b[1;32m     39\u001b[0m \u001b[0;34m\u001b[0m\u001b[0m\n\u001b[0;32m---> 40\u001b[0;31m         \u001b[0mgender_model\u001b[0m\u001b[0;34m.\u001b[0m\u001b[0mload_weights\u001b[0m\u001b[0;34m(\u001b[0m\u001b[0mhome\u001b[0m\u001b[0;34m+\u001b[0m\u001b[0;34m'/.deepface/weights/gender_model_weights.h5'\u001b[0m\u001b[0;34m)\u001b[0m\u001b[0;34m\u001b[0m\u001b[0m\n\u001b[0m\u001b[1;32m     41\u001b[0m \u001b[0;34m\u001b[0m\u001b[0m\n\u001b[1;32m     42\u001b[0m         \u001b[0;32mreturn\u001b[0m \u001b[0mgender_model\u001b[0m\u001b[0;34m\u001b[0m\u001b[0m\n",
      "\u001b[0;32m~/.pyenv/versions/3.7.0/envs/testvirtenv/lib/python3.7/site-packages/keras/engine/saving.py\u001b[0m in \u001b[0;36mload_wrapper\u001b[0;34m(*args, **kwargs)\u001b[0m\n\u001b[1;32m    490\u001b[0m                 \u001b[0mos\u001b[0m\u001b[0;34m.\u001b[0m\u001b[0mremove\u001b[0m\u001b[0;34m(\u001b[0m\u001b[0mtmp_filepath\u001b[0m\u001b[0;34m)\u001b[0m\u001b[0;34m\u001b[0m\u001b[0m\n\u001b[1;32m    491\u001b[0m             \u001b[0;32mreturn\u001b[0m \u001b[0mres\u001b[0m\u001b[0;34m\u001b[0m\u001b[0m\n\u001b[0;32m--> 492\u001b[0;31m         \u001b[0;32mreturn\u001b[0m \u001b[0mload_function\u001b[0m\u001b[0;34m(\u001b[0m\u001b[0;34m*\u001b[0m\u001b[0margs\u001b[0m\u001b[0;34m,\u001b[0m \u001b[0;34m**\u001b[0m\u001b[0mkwargs\u001b[0m\u001b[0;34m)\u001b[0m\u001b[0;34m\u001b[0m\u001b[0m\n\u001b[0m\u001b[1;32m    493\u001b[0m \u001b[0;34m\u001b[0m\u001b[0m\n\u001b[1;32m    494\u001b[0m     \u001b[0;32mreturn\u001b[0m \u001b[0mload_wrapper\u001b[0m\u001b[0;34m\u001b[0m\u001b[0m\n",
      "\u001b[0;32m~/.pyenv/versions/3.7.0/envs/testvirtenv/lib/python3.7/site-packages/keras/engine/network.py\u001b[0m in \u001b[0;36mload_weights\u001b[0;34m(self, filepath, by_name, skip_mismatch, reshape)\u001b[0m\n\u001b[1;32m   1219\u001b[0m         \u001b[0;32mif\u001b[0m \u001b[0mh5py\u001b[0m \u001b[0;32mis\u001b[0m \u001b[0;32mNone\u001b[0m\u001b[0;34m:\u001b[0m\u001b[0;34m\u001b[0m\u001b[0m\n\u001b[1;32m   1220\u001b[0m             \u001b[0;32mraise\u001b[0m \u001b[0mImportError\u001b[0m\u001b[0;34m(\u001b[0m\u001b[0;34m'`load_weights` requires h5py.'\u001b[0m\u001b[0;34m)\u001b[0m\u001b[0;34m\u001b[0m\u001b[0m\n\u001b[0;32m-> 1221\u001b[0;31m         \u001b[0;32mwith\u001b[0m \u001b[0mh5py\u001b[0m\u001b[0;34m.\u001b[0m\u001b[0mFile\u001b[0m\u001b[0;34m(\u001b[0m\u001b[0mfilepath\u001b[0m\u001b[0;34m,\u001b[0m \u001b[0mmode\u001b[0m\u001b[0;34m=\u001b[0m\u001b[0;34m'r'\u001b[0m\u001b[0;34m)\u001b[0m \u001b[0;32mas\u001b[0m \u001b[0mf\u001b[0m\u001b[0;34m:\u001b[0m\u001b[0;34m\u001b[0m\u001b[0m\n\u001b[0m\u001b[1;32m   1222\u001b[0m             \u001b[0;32mif\u001b[0m \u001b[0;34m'layer_names'\u001b[0m \u001b[0;32mnot\u001b[0m \u001b[0;32min\u001b[0m \u001b[0mf\u001b[0m\u001b[0;34m.\u001b[0m\u001b[0mattrs\u001b[0m \u001b[0;32mand\u001b[0m \u001b[0;34m'model_weights'\u001b[0m \u001b[0;32min\u001b[0m \u001b[0mf\u001b[0m\u001b[0;34m:\u001b[0m\u001b[0;34m\u001b[0m\u001b[0m\n\u001b[1;32m   1223\u001b[0m                 \u001b[0mf\u001b[0m \u001b[0;34m=\u001b[0m \u001b[0mf\u001b[0m\u001b[0;34m[\u001b[0m\u001b[0;34m'model_weights'\u001b[0m\u001b[0;34m]\u001b[0m\u001b[0;34m\u001b[0m\u001b[0m\n",
      "\u001b[0;32m~/.pyenv/versions/3.7.0/envs/testvirtenv/lib/python3.7/site-packages/h5py/_hl/files.py\u001b[0m in \u001b[0;36m__init__\u001b[0;34m(self, name, mode, driver, libver, userblock_size, swmr, rdcc_nslots, rdcc_nbytes, rdcc_w0, track_order, **kwds)\u001b[0m\n\u001b[1;32m    392\u001b[0m                 fid = make_fid(name, mode, userblock_size,\n\u001b[1;32m    393\u001b[0m                                \u001b[0mfapl\u001b[0m\u001b[0;34m,\u001b[0m \u001b[0mfcpl\u001b[0m\u001b[0;34m=\u001b[0m\u001b[0mmake_fcpl\u001b[0m\u001b[0;34m(\u001b[0m\u001b[0mtrack_order\u001b[0m\u001b[0;34m=\u001b[0m\u001b[0mtrack_order\u001b[0m\u001b[0;34m)\u001b[0m\u001b[0;34m,\u001b[0m\u001b[0;34m\u001b[0m\u001b[0m\n\u001b[0;32m--> 394\u001b[0;31m                                swmr=swmr)\n\u001b[0m\u001b[1;32m    395\u001b[0m \u001b[0;34m\u001b[0m\u001b[0m\n\u001b[1;32m    396\u001b[0m             \u001b[0;32mif\u001b[0m \u001b[0mswmr_support\u001b[0m\u001b[0;34m:\u001b[0m\u001b[0;34m\u001b[0m\u001b[0m\n",
      "\u001b[0;32m~/.pyenv/versions/3.7.0/envs/testvirtenv/lib/python3.7/site-packages/h5py/_hl/files.py\u001b[0m in \u001b[0;36mmake_fid\u001b[0;34m(name, mode, userblock_size, fapl, fcpl, swmr)\u001b[0m\n\u001b[1;32m    168\u001b[0m         \u001b[0;32mif\u001b[0m \u001b[0mswmr\u001b[0m \u001b[0;32mand\u001b[0m \u001b[0mswmr_support\u001b[0m\u001b[0;34m:\u001b[0m\u001b[0;34m\u001b[0m\u001b[0m\n\u001b[1;32m    169\u001b[0m             \u001b[0mflags\u001b[0m \u001b[0;34m|=\u001b[0m \u001b[0mh5f\u001b[0m\u001b[0;34m.\u001b[0m\u001b[0mACC_SWMR_READ\u001b[0m\u001b[0;34m\u001b[0m\u001b[0m\n\u001b[0;32m--> 170\u001b[0;31m         \u001b[0mfid\u001b[0m \u001b[0;34m=\u001b[0m \u001b[0mh5f\u001b[0m\u001b[0;34m.\u001b[0m\u001b[0mopen\u001b[0m\u001b[0;34m(\u001b[0m\u001b[0mname\u001b[0m\u001b[0;34m,\u001b[0m \u001b[0mflags\u001b[0m\u001b[0;34m,\u001b[0m \u001b[0mfapl\u001b[0m\u001b[0;34m=\u001b[0m\u001b[0mfapl\u001b[0m\u001b[0;34m)\u001b[0m\u001b[0;34m\u001b[0m\u001b[0m\n\u001b[0m\u001b[1;32m    171\u001b[0m     \u001b[0;32melif\u001b[0m \u001b[0mmode\u001b[0m \u001b[0;34m==\u001b[0m \u001b[0;34m'r+'\u001b[0m\u001b[0;34m:\u001b[0m\u001b[0;34m\u001b[0m\u001b[0m\n\u001b[1;32m    172\u001b[0m         \u001b[0mfid\u001b[0m \u001b[0;34m=\u001b[0m \u001b[0mh5f\u001b[0m\u001b[0;34m.\u001b[0m\u001b[0mopen\u001b[0m\u001b[0;34m(\u001b[0m\u001b[0mname\u001b[0m\u001b[0;34m,\u001b[0m \u001b[0mh5f\u001b[0m\u001b[0;34m.\u001b[0m\u001b[0mACC_RDWR\u001b[0m\u001b[0;34m,\u001b[0m \u001b[0mfapl\u001b[0m\u001b[0;34m=\u001b[0m\u001b[0mfapl\u001b[0m\u001b[0;34m)\u001b[0m\u001b[0;34m\u001b[0m\u001b[0m\n",
      "\u001b[0;32mh5py/_objects.pyx\u001b[0m in \u001b[0;36mh5py._objects.with_phil.wrapper\u001b[0;34m()\u001b[0m\n",
      "\u001b[0;32mh5py/_objects.pyx\u001b[0m in \u001b[0;36mh5py._objects.with_phil.wrapper\u001b[0;34m()\u001b[0m\n",
      "\u001b[0;32mh5py/h5f.pyx\u001b[0m in \u001b[0;36mh5py.h5f.open\u001b[0;34m()\u001b[0m\n",
      "\u001b[0;31mOSError\u001b[0m: Unable to open file (file signature not found)"
     ]
    }
   ],
   "source": [
    "# Importing necessary libraries\n",
    "import os\n",
    "import sys\n",
    "os.environ['TF_CPP_MIN_LOG_LEVEL'] = '3'\n",
    "# Keras outputs warnings using `print` to stderr so let's direct that to devnull temporarily\n",
    "stderr = sys.stderr\n",
    "sys.stderr = open(os.devnull, 'w')\n",
    "from ipywidgets import VBox, HBox\n",
    "import ipywidgets as widgets\n",
    "from IPython.display import clear_output, Javascript\n",
    "from PIL import Image\n",
    "from IPython.display import HTML\n",
    "from pathlib import Path\n",
    "from io import BytesIO\n",
    "import requests as requests\n",
    "from IPython.display import HTML\n",
    "from deepface import DeepFace\n",
    "from deepface.extendedmodels import  Gender\n",
    "import pathlib\n",
    "import shutil\n",
    "import warnings\n",
    "warnings.filterwarnings('ignore') #hide warnings\n",
    "\n",
    "import logging\n",
    "logger = logging.getLogger()\n",
    "logger.setLevel(logging.CRITICAL) #hide info messages\n",
    "\n",
    "%reload_ext autoreload\n",
    "%autoreload 2\n",
    "display(Javascript('IPython.notebook.execute_cells_below()')) #execute cells below\n",
    "\n",
    "# Load the gender model weights\n",
    "home = str(Path.home())\n",
    "source = '../DeepFace/gender_model_weights.h5'\n",
    "destination = home + '/.deepface/weights/gender_model_weights.h5'\n",
    "if not pathlib.Path(destination).exists():\n",
    "    if not pathlib.Path(home + '/.deepface/weights/').exists():\n",
    "        os.mkdir(home + \"/.deepface/\")\n",
    "        os.mkdir(home + \"/.deepface/weights/\")\n",
    "    dest = shutil.copyfile(source, destination)\n",
    "\n",
    "# Initiate a gender model\n",
    "models = {}\n",
    "models[\"gender\"] = Gender.loadModel()"
   ]
  },
  {
   "cell_type": "code",
   "execution_count": null,
   "metadata": {},
   "outputs": [],
   "source": [
    "HTML('''<script>\n",
    "code_show=true;\n",
    "function code_toggle() {\n",
    " if (code_show){\n",
    " $('div.input').hide();\n",
    " } else {\n",
    " $('div.input').show();\n",
    " }\n",
    " code_show = !code_show\n",
    "}\n",
    "$( document ).ready(code_toggle);\n",
    "</script>\n",
    "The raw code for this IPython notebook is by default hidden for easier reading.\n",
    "To toggle on/off the raw code, click <a href=\"javascript:code_toggle()\">here</a>. Or you can use the buttons in the navigation menu.''')"
   ]
  },
  {
   "cell_type": "code",
   "execution_count": null,
   "metadata": {},
   "outputs": [],
   "source": [
    "# running deepface\n",
    "def deepface():\n",
    "    try:\n",
    "        deepface_pred = DeepFace.analyze(filename, models=models, actions=['gender'], enforce_detection=True)\n",
    "        if deepface_pred['gender'] == 'Woman':\n",
    "            gender = 'Female'\n",
    "        if deepface_pred['gender'] == 'Man':\n",
    "            gender = 'Male'\n",
    "        print(\"Predicted gender for your input is: \" + gender)\n",
    "    except:\n",
    "        print(\"Ooops! No face has been detected\")"
   ]
  },
  {
   "cell_type": "code",
   "execution_count": null,
   "metadata": {},
   "outputs": [],
   "source": [
    "# Set up layout for upload widgets and update the upload counter\n",
    "\n",
    "\n",
    "def initialize_widgets():\n",
    "    global upload, link, name, layout\n",
    "    upload = widgets.FileUpload(\n",
    "        accept='image/*',\n",
    "        multiple=False\n",
    "    )\n",
    "    link = widgets.Text(\n",
    "        placeholder='url to an image file',\n",
    "        description='Link:',\n",
    "        disabled=False\n",
    "    )\n",
    "    input_box = HBox([upload, link])\n",
    "    layout = VBox([input_box, submit])\n",
    "    display(layout)\n",
    "    upload.observe(on_upload_change, names='_counter')\n",
    "\n",
    "\n",
    "def on_upload_change(b):\n",
    "    if upload._counter > 1:\n",
    "        upload._counter = 1\n",
    "    else:\n",
    "        upload._counter = upload._counter\n",
    "\n",
    "    \n",
    "global clear, submit, submitted\n",
    "submitted = False\n",
    "display(HTML('<p>Please either use <b>upload</b> field to select a file from your computer or provide a <b>url</b> to a web image. <br/><b>Important</b>: please use a link to an image file, ending with a common image formats -.jpg, .png.</p>'))\n",
    "# print('Please either use upload field to select a file from your computer or provide a url to a web image. ')\n",
    "submit = widgets.Button(description=\"Submit\")\n",
    "clear = widgets.Button(description=\"Clear\")\n",
    "initialize_widgets()\n",
    "\n",
    "\n",
    "# Clear the output and delete the files\n",
    "def on_clear_clicked(b):\n",
    "    clear_output()\n",
    "    initialize_widgets()\n",
    "    for filename in os.listdir('./'):\n",
    "        if filename.endswith(\".jpg\") or filename.endswith(\".csv\"):\n",
    "            os.remove(filename)\n",
    "    submitted = False\n",
    "\n",
    "\n",
    "# convert images. Save the file (is deleted afterwards)\n",
    "def preprocess_and_save(content):\n",
    "    global filename\n",
    "    stream = BytesIO(content)\n",
    "    image = Image.open(stream).convert(\"RGB\")\n",
    "    stream.close()\n",
    "    filename = \"testfile.jpg\"\n",
    "    image.save(filename)\n",
    "    \n",
    "\n",
    "# Submitting an image either as fileupload or from url\n",
    "def on_submit_clicked(b):\n",
    "    global submitted\n",
    "    global content\n",
    "    if upload.value and link.value:   # both inputs are given\n",
    "        display(HTML('Please choose only one method for input'))\n",
    "        return False\n",
    "    elif upload.value:   # file is uploaded\n",
    "        display(HTML('<b>Please be patient, don\\'t restart the kernel or refresh the page. The model may take some time to predict the gender.\\n \\n</b>'))\n",
    "        uploaded_filename = next(iter(upload.value))\n",
    "        content = upload.value[uploaded_filename]['content']\n",
    "    elif link.value:   # url is fiven\n",
    "        display(HTML('<b>Please be patient, don\\'t restart the kernel or refresh the page. The model may take some time to predict the gender.\\n \\n</b>'))\n",
    "        content = requests.get(link.value).content\n",
    "    else:   # no input is given\n",
    "        display(HTML('No image has been uploaded'))\n",
    "        return False\n",
    "    preprocess_and_save(content)\n",
    "    if submitted:   # cleaning the previous results\n",
    "        clear_output()\n",
    "        initialize_widgets()\n",
    "    display(HTML('An image you submitted:'))\n",
    "    display(widgets.Image(value=content, width=200))\n",
    "    deepface()\n",
    "    display(clear)\n",
    "    submitted = True\n",
    "\n",
    "\n",
    "submit.on_click(on_submit_clicked)\n",
    "clear.on_click(on_clear_clicked)"
   ]
  },
  {
   "cell_type": "code",
   "execution_count": null,
   "metadata": {},
   "outputs": [],
   "source": [
    "clear_output()\n",
    "display(HTML('<p>This was a demo version of deepface on one image. You can go to the <a href=\"deepface_Gender_Prediction_Batch.ipynb\" target=\"_blank\">next notebook</a> to apply the model on a batch of images</p>'))"
   ]
  }
 ],
 "metadata": {
  "kernelspec": {
   "display_name": "Python 3",
   "language": "python",
   "name": "python3"
  },
  "language_info": {
   "codemirror_mode": {
    "name": "ipython",
    "version": 3
   },
   "file_extension": ".py",
   "mimetype": "text/x-python",
   "name": "python",
   "nbconvert_exporter": "python",
   "pygments_lexer": "ipython3"
  }
 },
 "nbformat": 4,
 "nbformat_minor": 2
}
