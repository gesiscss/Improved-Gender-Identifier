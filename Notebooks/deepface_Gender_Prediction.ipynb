{
 "cells": [
  {
   "cell_type": "markdown",
   "metadata": {},
   "source": [
    "This notebook is created at GESIS for general public to test <a href=\"https://github.com/serengil/deepface\">Deepface</a> on gender inference from images. It is a supplement to the GESIS Gender Inference website. You can upload your own image or use a url. All data is deleted afterwards."
   ]
  },
  {
   "cell_type": "markdown",
   "metadata": {},
   "source": [
    "1. Run all cells by clicking \"Cell\" -> \"Run all\" <br/>\n",
    "2. Upload a photo from your computer <b>OR</b> type a url to an image file on the Web. These options are interchangeable. \n",
    "3. Click \"Predict gender\" to run Deepface on your input data. <br/>\n",
    "4. Button \"Clear\" ensures no data is stored afterwards."
   ]
  },
  {
   "cell_type": "code",
   "execution_count": null,
   "metadata": {},
   "outputs": [],
   "source": [
    "# Importing necessary libraries\n",
    "from ipywidgets import VBox, HBox\n",
    "import ipywidgets as widgets\n",
    "from IPython.display import clear_output\n",
    "from PIL import Image\n",
    "from IPython.display import HTML\n",
    "from pathlib import Path\n",
    "import sys\n",
    "from io import BytesIO\n",
    "import json\n",
    "import os\n",
    "import requests as requests\n",
    "from IPython.display import HTML\n",
    "from deepface import DeepFace\n",
    "from deepface.extendedmodels import  Gender\n",
    "import pathlib\n",
    "import shutil \n",
    "\n",
    "## Load the gender model weights\n",
    "home = str(Path.home())\n",
    "source = '../DeepFace/gender_model_weights.h5'\n",
    "destination = home+'/.deepface/weights/gender_model_weights.h5'\n",
    "if not pathlib.Path(destination).exists():\n",
    "    if not pathlib.Path(home+'/.deepface/weights/').exists():\n",
    "        os.mkdir(home + \"/.deepface/\")\n",
    "        os.mkdir(home + \"/.deepface/weights/\")\n",
    "    dest = shutil.copyfile(source, destination) \n",
    "    \n",
    "## Initiate a gender model\n",
    "models = {}\n",
    "models[\"gender\"] = Gender.loadModel()"
   ]
  },
  {
   "cell_type": "code",
   "execution_count": null,
   "metadata": {},
   "outputs": [],
   "source": [
    "HTML('''<script>\n",
    "code_show=true; \n",
    "function code_toggle() {\n",
    " if (code_show){\n",
    " $('div.input').hide();\n",
    " } else {\n",
    " $('div.input').show();\n",
    " }\n",
    " code_show = !code_show\n",
    "} \n",
    "$( document ).ready(code_toggle);\n",
    "</script>\n",
    "The raw code for this IPython notebook is by default hidden for easier reading.\n",
    "To toggle on/off the raw code, click <a href=\"javascript:code_toggle()\">here</a>.''')"
   ]
  },
  {
   "cell_type": "code",
   "execution_count": null,
   "metadata": {},
   "outputs": [],
   "source": [
    "#running deepface\n",
    "def deepface():\n",
    "    try:\n",
    "        deepface_pred = DeepFace.analyze(filename, actions=['gender'] ,enforce_detection= True)\n",
    "        gender= deepface_pred['gender']\n",
    "        print(\"Predicted gender for your input is: \" + gender)\n",
    "    except:\n",
    "         print(\"Ooops! No face has been detected\")"
   ]
  },
  {
   "cell_type": "code",
   "execution_count": null,
   "metadata": {},
   "outputs": [],
   "source": [
    "'''Set up layout for upload widgets'''\n",
    "def initialize_widgets():\n",
    "    global upload, link, name, layout\n",
    "    upload = widgets.FileUpload(\n",
    "        accept='image/*', \n",
    "        multiple=False  \n",
    "    )\n",
    "    link = widgets.Text(\n",
    "        placeholder='url to an image file',\n",
    "        description='Link:',\n",
    "        disabled=False\n",
    "    )\n",
    " \n",
    "    input_box = HBox([upload, link])\n",
    "    layout = VBox([input_box, submit])\n",
    "    display(layout)\n",
    "    \n",
    "global clear, submit, submitted \n",
    "submitted = False\n",
    "display(HTML('<p>Please either use <b>upload</b> field to select a file from your computer or provide a <b>url</b> to a web image. <br/><b>Important</b>: please use a link to an image file, ending with a common image formats -.jpg, .png.</p>'))\n",
    "# print('Please either use upload field to select a file from your computer or provide a url to a web image. ')\n",
    "submit = widgets.Button(description=\"Submit\")\n",
    "clear = widgets.Button(description=\"Clear\")\n",
    "initialize_widgets()\n",
    "\n",
    "''' Clear the output and delete the files'''\n",
    "def on_clear_clicked(b):\n",
    "    clear_output()\n",
    "    initialize_widgets()\n",
    "    for filename in os.listdir('./'):\n",
    "        if filename.endswith(\".jpg\") or filename.endswith(\".csv\"):\n",
    "            os.remove(filename)\n",
    "    submitted = False\n",
    "\n",
    "'''convert images. Save the file (is deleted afterwards)'''    \n",
    "def preprocess_and_save(content):\n",
    "    global filename\n",
    "    stream = BytesIO(content)\n",
    "    image = Image.open(stream).convert(\"RGB\")\n",
    "    stream.close()\n",
    "    filename= \"testfile.jpg\"\n",
    "    image.save(filename)\n",
    "\n",
    "'''Submitting an image either as fileupload or from url'''\n",
    "def on_submit_clicked(b):\n",
    "    global submitted\n",
    "    global content\n",
    "    if upload.value and link.value: #both inputs are given\n",
    "        print('Please choose only one method for input')\n",
    "        return False\n",
    "    elif upload.value: #file is uploaded\n",
    "        uploaded_filename = next(iter(upload.value))\n",
    "        content = upload.value[uploaded_filename]['content']\n",
    "    elif link.value: #url is fiven\n",
    "        content = requests.get(link.value).content\n",
    "    else: #no input is given\n",
    "        print('No image has been uploaded')\n",
    "        return False\n",
    "    preprocess_and_save(content)\n",
    "    if submitted: #cleaning the previous results\n",
    "        clear_output()\n",
    "        initialize_widgets()\n",
    "    print('An image you submitted:')\n",
    "    display(widgets.Image(value=content, width=200))\n",
    "    deepface()\n",
    "    display(clear)\n",
    "    submitted = True\n",
    "\n",
    "submit.on_click(on_submit_clicked)\n",
    "clear.on_click(on_clear_clicked)\n",
    "\n"
   ]
  },
  {
   "cell_type": "code",
   "execution_count": null,
   "metadata": {},
   "outputs": [],
   "source": [
    "clear_output()\n",
    "display(HTML('<p>This was a demo version of deepface on one image. You can go to the <a href=\"deepface_Gender_Prediction_Batch.ipynb\" target=\"_blank\">next notebook</a> to apply the model on a batch of images</p>'))"
   ]
  }
 ],
 "metadata": {
  "kernelspec": {
   "display_name": "Python 3",
   "language": "python",
   "name": "python3"
  },
  "language_info": {
   "codemirror_mode": {
    "name": "ipython",
    "version": 3
   },
   "file_extension": ".py",
   "mimetype": "text/x-python",
   "name": "python",
   "nbconvert_exporter": "python",
   "pygments_lexer": "ipython3"
  }
 },
 "nbformat": 4,
 "nbformat_minor": 2
}
