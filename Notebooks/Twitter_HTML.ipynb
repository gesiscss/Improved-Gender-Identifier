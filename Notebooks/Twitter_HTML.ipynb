{
 "cells": [
  {
   "cell_type": "code",
   "execution_count": null,
   "metadata": {},
   "outputs": [],
   "source": [
    "import zipfile as zf\n",
    "import os\n",
    "from bs4 import BeautifulSoup\n",
    "import pandas as pd"
   ]
  },
  {
   "cell_type": "code",
   "execution_count": null,
   "metadata": {},
   "outputs": [],
   "source": [
    "# Extracting htmls from the zip archive\n",
    "def extract_zip(path_to_data, path_to_output):\n",
    "    files = zf.ZipFile(path_to_data, 'r')\n",
    "    files.extractall(path_to_output)\n",
    "    files.close()\n",
    "    \n",
    "path = 'html_profiles-20200805T100649Z-001.zip'\n",
    "extract_zip(path, '')"
   ]
  },
  {
   "cell_type": "code",
   "execution_count": null,
   "metadata": {},
   "outputs": [],
   "source": [
    "twitter_path = 'html_profiles/'\n",
    "df_list = []\n",
    "for file in os.listdir(twitter_path):\n",
    "    soup = BeautifulSoup(open(twitter_path+file), \"html.parser\")\n",
    "    row = [file[:-5]]\n",
    "    for name in soup.find_all('td'):\n",
    "        row.append(name.getText().rstrip())\n",
    "    df_list.append(row)\n",
    "    \n",
    "df = pd.DataFrame(df_list)\n",
    "df = df[[0,2,4,6]].rename({0:'hash', 2:'Name', 4:'Twitter_Handle', 6:'Bio'}, axis=1)\n",
    "df.to_csv('Twitter_names.csv')\n",
    "    "
   ]
  },
  {
   "cell_type": "code",
   "execution_count": null,
   "metadata": {},
   "outputs": [],
   "source": []
  }
 ],
 "metadata": {
  "kernelspec": {
   "display_name": "Python 3",
   "language": "python",
   "name": "python3"
  },
  "language_info": {
   "codemirror_mode": {
    "name": "ipython",
    "version": 3
   },
   "file_extension": ".py",
   "mimetype": "text/x-python",
   "name": "python",
   "nbconvert_exporter": "python",
   "pygments_lexer": "ipython3"
  }
 },
 "nbformat": 4,
 "nbformat_minor": 2
}
